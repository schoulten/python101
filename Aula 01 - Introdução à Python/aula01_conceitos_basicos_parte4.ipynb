{
  "nbformat": 4,
  "nbformat_minor": 0,
  "metadata": {
    "colab": {
      "name": "aula01_conceitos_basicos_parte4.ipynb",
      "provenance": [],
      "collapsed_sections": []
    },
    "kernelspec": {
      "name": "python3",
      "display_name": "Python 3"
    },
    "language_info": {
      "name": "python"
    }
  },
  "cells": [
    {
      "cell_type": "markdown",
      "metadata": {
        "id": "fdOJfKdPgYh9"
      },
      "source": [
        "# Funções"
      ]
    },
    {
      "cell_type": "code",
      "metadata": {
        "id": "URSiedhraeZY"
      },
      "source": [
        "# Exemplo básico função\n",
        "def print_furg():\n",
        "  print(\"FURG\")"
      ],
      "execution_count": 1,
      "outputs": []
    },
    {
      "cell_type": "code",
      "metadata": {
        "colab": {
          "base_uri": "https://localhost:8080/"
        },
        "id": "1go81wsmcgkI",
        "outputId": "66b1dd01-6387-4ff2-dc73-5a5582fcbd61"
      },
      "source": [
        "# Executar função criada\n",
        "print_furg()"
      ],
      "execution_count": 2,
      "outputs": [
        {
          "output_type": "stream",
          "text": [
            "FURG\n"
          ],
          "name": "stdout"
        }
      ]
    },
    {
      "cell_type": "code",
      "metadata": {
        "id": "xNzdXdr6ck0y"
      },
      "source": [
        "# Adicionando argumentos na função\n",
        "def print_furg(texto, campus, ano = \"2019\"):\n",
        "  print(texto + \" \" + campus + \" \" + ano)"
      ],
      "execution_count": 10,
      "outputs": []
    },
    {
      "cell_type": "code",
      "metadata": {
        "colab": {
          "base_uri": "https://localhost:8080/"
        },
        "id": "014Wzr-ec8na",
        "outputId": "55f20af9-6fc1-4c4f-a65a-e9a65dcd638c"
      },
      "source": [
        "# Executar\n",
        "print_furg(\"FURG\", \"Carreiros\")"
      ],
      "execution_count": 11,
      "outputs": [
        {
          "output_type": "stream",
          "text": [
            "FURG Carreiros 2019\n"
          ],
          "name": "stdout"
        }
      ]
    },
    {
      "cell_type": "code",
      "metadata": {
        "id": "nrvr6zmTdAlw"
      },
      "source": [
        "# utilizando o return\n",
        "def print_furg(texto, campus, ano = \"2019\"):\n",
        "  mensagem = texto + \" \" + campus + \" \" + ano\n",
        "  return mensagem, ano"
      ],
      "execution_count": 16,
      "outputs": []
    },
    {
      "cell_type": "code",
      "metadata": {
        "colab": {
          "base_uri": "https://localhost:8080/",
          "height": 35
        },
        "id": "CWxDAbRcd1YA",
        "outputId": "b0c9cc33-70f1-4322-d025-8d4a32e86d14"
      },
      "source": [
        "print_furg(\"FURG\", \"Carreiros\")\n",
        "m, a = print_furg(\"FURG\", \"Carreiros\")\n",
        "m\n",
        "a"
      ],
      "execution_count": 26,
      "outputs": [
        {
          "output_type": "execute_result",
          "data": {
            "application/vnd.google.colaboratory.intrinsic+json": {
              "type": "string"
            },
            "text/plain": [
              "'2019'"
            ]
          },
          "metadata": {
            "tags": []
          },
          "execution_count": 26
        }
      ]
    },
    {
      "cell_type": "code",
      "metadata": {
        "id": "bUV7aTvXd5jh"
      },
      "source": [
        "# Exercício 1\n",
        "\n",
        "# Função para calcular fatorial de um número\n",
        "def fatorial(numero):\n",
        "  fat = 1\n",
        "  for i in range(1, numero +1):\n",
        "    fat *= i\n",
        "  return fat"
      ],
      "execution_count": 33,
      "outputs": []
    },
    {
      "cell_type": "code",
      "metadata": {
        "colab": {
          "base_uri": "https://localhost:8080/"
        },
        "id": "3MUNlN4be2_t",
        "outputId": "723e10aa-c006-4a05-d03f-81029760ccbb"
      },
      "source": [
        "fatorial(4)"
      ],
      "execution_count": 35,
      "outputs": [
        {
          "output_type": "execute_result",
          "data": {
            "text/plain": [
              "24"
            ]
          },
          "metadata": {
            "tags": []
          },
          "execution_count": 35
        }
      ]
    },
    {
      "cell_type": "code",
      "metadata": {
        "id": "05I5hD96gk3z"
      },
      "source": [
        "# Exercício 2\n",
        "\n",
        "# Importar função de fatorial do pacote math\n",
        "from math import factorial"
      ],
      "execution_count": 36,
      "outputs": []
    },
    {
      "cell_type": "code",
      "metadata": {
        "colab": {
          "base_uri": "https://localhost:8080/"
        },
        "id": "rhJ6fUX2ffp2",
        "outputId": "e9c2ab86-fd03-4fa3-867f-586551e06f12"
      },
      "source": [
        "factorial(5)"
      ],
      "execution_count": 37,
      "outputs": [
        {
          "output_type": "execute_result",
          "data": {
            "text/plain": [
              "120"
            ]
          },
          "metadata": {
            "tags": []
          },
          "execution_count": 37
        }
      ]
    },
    {
      "cell_type": "code",
      "metadata": {
        "id": "EulIa_4fgzCh"
      },
      "source": [
        "# Exercício 3\n",
        "import math\n",
        "\n",
        "# Função que recebe valor do raio de um círculo e retorna o valor da área do mesmo com o pacote math\n",
        "def area_circulo(raio):\n",
        "  area = math.pi * raio**2\n",
        "  return area"
      ],
      "execution_count": 39,
      "outputs": []
    },
    {
      "cell_type": "code",
      "metadata": {
        "colab": {
          "base_uri": "https://localhost:8080/"
        },
        "id": "1uawQyqQhRFz",
        "outputId": "c970ce95-c19d-4cce-8433-9197d4036493"
      },
      "source": [
        "area_circulo(2)"
      ],
      "execution_count": 41,
      "outputs": [
        {
          "output_type": "execute_result",
          "data": {
            "text/plain": [
              "12.566370614359172"
            ]
          },
          "metadata": {
            "tags": []
          },
          "execution_count": 41
        }
      ]
    },
    {
      "cell_type": "code",
      "metadata": {
        "id": "_hPffFU1hcDh"
      },
      "source": [
        "# Exercício 4\n",
        "\n",
        "# Alterar função anterior para retornar também o diâmetro e o perímetro\n",
        "def area_circulo(raio = 5):\n",
        "  area = math.pi * raio**2\n",
        "  diametro = 2 * raio \n",
        "  perimetro = 2 * math.pi * raio\n",
        "  return area, diametro, perimetro"
      ],
      "execution_count": 42,
      "outputs": []
    },
    {
      "cell_type": "code",
      "metadata": {
        "colab": {
          "base_uri": "https://localhost:8080/"
        },
        "id": "2qY2vcooiBpK",
        "outputId": "903dcf59-1e85-4d67-db21-0c1a4793af1f"
      },
      "source": [
        "area_circulo()"
      ],
      "execution_count": 45,
      "outputs": [
        {
          "output_type": "execute_result",
          "data": {
            "text/plain": [
              "(78.53981633974483, 10, 31.41592653589793)"
            ]
          },
          "metadata": {
            "tags": []
          },
          "execution_count": 45
        }
      ]
    },
    {
      "cell_type": "code",
      "metadata": {
        "id": "OuW3fi9uiC4g"
      },
      "source": [
        "# Exercício 4\n",
        "import numpy as np\n",
        "\n",
        "# Função para testar lei dos grandes números, recebendo nº de experimentos\n",
        "def grandes_num(n):\n",
        "  cont = 0\n",
        "  for i in range(n):\n",
        "    dados = np.random.normal(0, 1)\n",
        "    if(dados > -1 and dados < 1):\n",
        "      cont += 1\n",
        "  return cont / n"
      ],
      "execution_count": 48,
      "outputs": []
    },
    {
      "cell_type": "code",
      "metadata": {
        "colab": {
          "base_uri": "https://localhost:8080/"
        },
        "id": "1p8M8cS4jBkb",
        "outputId": "14633cb3-71f1-4c09-99f3-70815e18a522"
      },
      "source": [
        "grandes_num(10000)"
      ],
      "execution_count": 52,
      "outputs": [
        {
          "output_type": "execute_result",
          "data": {
            "text/plain": [
              "0.6818"
            ]
          },
          "metadata": {
            "tags": []
          },
          "execution_count": 52
        }
      ]
    },
    {
      "cell_type": "code",
      "metadata": {
        "id": "RcN9FKMJjDOe"
      },
      "source": [
        "# Exercício 5\n",
        "\n",
        "# Incluir argumento para intervalo a ser validado\n",
        "def grandes_num(n, intervalor_inf = -1, intervalo_sup = 1):\n",
        "  cont = 0\n",
        "  for i in range(n):\n",
        "    dados = np.random.normal(0, 1)\n",
        "    if(dados > intervalor_inf and dados < intervalo_sup):\n",
        "      cont += 1\n",
        "  return cont / n"
      ],
      "execution_count": 53,
      "outputs": []
    },
    {
      "cell_type": "code",
      "metadata": {
        "colab": {
          "base_uri": "https://localhost:8080/"
        },
        "id": "EgNUf_6jkJ9-",
        "outputId": "a1bf1549-81c2-4eac-f610-5ad110c190c5"
      },
      "source": [
        "grandes_num(10000, 1, 2)"
      ],
      "execution_count": 55,
      "outputs": [
        {
          "output_type": "execute_result",
          "data": {
            "text/plain": [
              "0.1389"
            ]
          },
          "metadata": {
            "tags": []
          },
          "execution_count": 55
        }
      ]
    },
    {
      "cell_type": "code",
      "metadata": {
        "id": "bsyQq35QkLX9"
      },
      "source": [
        ""
      ],
      "execution_count": null,
      "outputs": []
    }
  ]
}