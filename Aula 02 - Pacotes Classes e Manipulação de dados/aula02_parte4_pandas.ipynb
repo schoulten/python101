{
  "nbformat": 4,
  "nbformat_minor": 0,
  "metadata": {
    "colab": {
      "name": "aula02_parte4_pandas.ipynb",
      "provenance": [],
      "collapsed_sections": []
    },
    "kernelspec": {
      "name": "python3",
      "display_name": "Python 3"
    },
    "language_info": {
      "name": "python"
    }
  },
  "cells": [
    {
      "cell_type": "markdown",
      "metadata": {
        "id": "WkYiQ43K9pEq"
      },
      "source": [
        "# Pandas"
      ]
    },
    {
      "cell_type": "code",
      "metadata": {
        "colab": {
          "base_uri": "https://localhost:8080/"
        },
        "id": "Y85lX6Cw9qpM",
        "outputId": "02cfba53-403c-4b16-e5ee-c65269734ba9"
      },
      "source": [
        "# Importar bibliotecas\n",
        "import pandas as pd\n",
        "import numpy as np\n",
        "\n",
        "# Criar vetor\n",
        "vet = np.random.randint(low = 1, high = 20, size = 26) # vetor de uma dimensão com 26 \n",
        "vet"
      ],
      "execution_count": 3,
      "outputs": [
        {
          "output_type": "execute_result",
          "data": {
            "text/plain": [
              "array([ 2, 18,  9,  3,  7, 13,  4,  7,  6,  3,  4, 11, 19,  5, 12, 16,  8,\n",
              "        7,  7,  9, 11,  5,  8, 13,  6, 13])"
            ]
          },
          "metadata": {},
          "execution_count": 3
        }
      ]
    },
    {
      "cell_type": "code",
      "metadata": {
        "colab": {
          "base_uri": "https://localhost:8080/"
        },
        "id": "K-YKNaXm-H7R",
        "outputId": "ae036ef8-9e41-40e1-8ce4-ac56a94d388e"
      },
      "source": [
        "# Criar uma série a partir de vetor\n",
        "df = pd.Series(vet)\n",
        "df.head()\n",
        "df.tail(n = 6)"
      ],
      "execution_count": null,
      "outputs": [
        {
          "output_type": "execute_result",
          "data": {
            "text/plain": [
              "20    12\n",
              "21     2\n",
              "22    10\n",
              "23     2\n",
              "24     8\n",
              "25     7\n",
              "dtype: int64"
            ]
          },
          "metadata": {
            "tags": []
          },
          "execution_count": 31
        }
      ]
    },
    {
      "cell_type": "code",
      "metadata": {
        "colab": {
          "base_uri": "https://localhost:8080/"
        },
        "id": "o0gPePzD-mA-",
        "outputId": "ce47ca49-a7c7-4a8d-b510-d1e9a162bfd0"
      },
      "source": [
        "# Fazer reshape: transforma em array de 2 dimensões\n",
        "vet2 = vet.reshape(2, 13) # transformar em 3 linhas e 12 colunas\n",
        "vet2"
      ],
      "execution_count": null,
      "outputs": [
        {
          "output_type": "execute_result",
          "data": {
            "text/plain": [
              "array([[ 7,  8, 15, 12,  1, 11, 10,  5,  3,  1,  3, 17, 11],\n",
              "       [14,  6,  2, 14, 17,  5, 18, 12,  2, 10,  2,  8,  7]])"
            ]
          },
          "metadata": {
            "tags": []
          },
          "execution_count": 32
        }
      ]
    },
    {
      "cell_type": "code",
      "metadata": {
        "colab": {
          "base_uri": "https://localhost:8080/",
          "height": 110
        },
        "id": "bb6hCudF_Mdn",
        "outputId": "7cffbced-c251-4686-b935-5b4ad5aff2bd"
      },
      "source": [
        "# Criar data frame com duas colunas\n",
        "df2 = pd.DataFrame(vet2)\n",
        "df2"
      ],
      "execution_count": null,
      "outputs": [
        {
          "output_type": "execute_result",
          "data": {
            "text/html": [
              "<div>\n",
              "<style scoped>\n",
              "    .dataframe tbody tr th:only-of-type {\n",
              "        vertical-align: middle;\n",
              "    }\n",
              "\n",
              "    .dataframe tbody tr th {\n",
              "        vertical-align: top;\n",
              "    }\n",
              "\n",
              "    .dataframe thead th {\n",
              "        text-align: right;\n",
              "    }\n",
              "</style>\n",
              "<table border=\"1\" class=\"dataframe\">\n",
              "  <thead>\n",
              "    <tr style=\"text-align: right;\">\n",
              "      <th></th>\n",
              "      <th>0</th>\n",
              "      <th>1</th>\n",
              "      <th>2</th>\n",
              "      <th>3</th>\n",
              "      <th>4</th>\n",
              "      <th>5</th>\n",
              "      <th>6</th>\n",
              "      <th>7</th>\n",
              "      <th>8</th>\n",
              "      <th>9</th>\n",
              "      <th>10</th>\n",
              "      <th>11</th>\n",
              "      <th>12</th>\n",
              "    </tr>\n",
              "  </thead>\n",
              "  <tbody>\n",
              "    <tr>\n",
              "      <th>0</th>\n",
              "      <td>7</td>\n",
              "      <td>8</td>\n",
              "      <td>15</td>\n",
              "      <td>12</td>\n",
              "      <td>1</td>\n",
              "      <td>11</td>\n",
              "      <td>10</td>\n",
              "      <td>5</td>\n",
              "      <td>3</td>\n",
              "      <td>1</td>\n",
              "      <td>3</td>\n",
              "      <td>17</td>\n",
              "      <td>11</td>\n",
              "    </tr>\n",
              "    <tr>\n",
              "      <th>1</th>\n",
              "      <td>14</td>\n",
              "      <td>6</td>\n",
              "      <td>2</td>\n",
              "      <td>14</td>\n",
              "      <td>17</td>\n",
              "      <td>5</td>\n",
              "      <td>18</td>\n",
              "      <td>12</td>\n",
              "      <td>2</td>\n",
              "      <td>10</td>\n",
              "      <td>2</td>\n",
              "      <td>8</td>\n",
              "      <td>7</td>\n",
              "    </tr>\n",
              "  </tbody>\n",
              "</table>\n",
              "</div>"
            ],
            "text/plain": [
              "   0   1   2   3   4   5   6   7   8   9   10  11  12\n",
              "0   7   8  15  12   1  11  10   5   3   1   3  17  11\n",
              "1  14   6   2  14  17   5  18  12   2  10   2   8   7"
            ]
          },
          "metadata": {
            "tags": []
          },
          "execution_count": 33
        }
      ]
    },
    {
      "cell_type": "code",
      "metadata": {
        "colab": {
          "base_uri": "https://localhost:8080/",
          "height": 110
        },
        "id": "cTuhlKyB_ji-",
        "outputId": "ed8d7fda-e41f-4839-ae3c-b3a20e9b96a4"
      },
      "source": [
        "# Nomear colunas\n",
        "df2.columns = list([\"jan/01\", \"fev/01\", \"mar/01\", \"abr/01\", \"mai/01\", \"jun/01\", \"jul/01\", \"ago/01\", \"set/01\", \"out/01\", \"nov/01\", \"dez/01\", \"jan/02\"])\n",
        "df2"
      ],
      "execution_count": null,
      "outputs": [
        {
          "output_type": "execute_result",
          "data": {
            "text/html": [
              "<div>\n",
              "<style scoped>\n",
              "    .dataframe tbody tr th:only-of-type {\n",
              "        vertical-align: middle;\n",
              "    }\n",
              "\n",
              "    .dataframe tbody tr th {\n",
              "        vertical-align: top;\n",
              "    }\n",
              "\n",
              "    .dataframe thead th {\n",
              "        text-align: right;\n",
              "    }\n",
              "</style>\n",
              "<table border=\"1\" class=\"dataframe\">\n",
              "  <thead>\n",
              "    <tr style=\"text-align: right;\">\n",
              "      <th></th>\n",
              "      <th>jan/01</th>\n",
              "      <th>fev/01</th>\n",
              "      <th>mar/01</th>\n",
              "      <th>abr/01</th>\n",
              "      <th>mai/01</th>\n",
              "      <th>jun/01</th>\n",
              "      <th>jul/01</th>\n",
              "      <th>ago/01</th>\n",
              "      <th>set/01</th>\n",
              "      <th>out/01</th>\n",
              "      <th>nov/01</th>\n",
              "      <th>dez/01</th>\n",
              "      <th>jan/02</th>\n",
              "    </tr>\n",
              "  </thead>\n",
              "  <tbody>\n",
              "    <tr>\n",
              "      <th>0</th>\n",
              "      <td>7</td>\n",
              "      <td>8</td>\n",
              "      <td>15</td>\n",
              "      <td>12</td>\n",
              "      <td>1</td>\n",
              "      <td>11</td>\n",
              "      <td>10</td>\n",
              "      <td>5</td>\n",
              "      <td>3</td>\n",
              "      <td>1</td>\n",
              "      <td>3</td>\n",
              "      <td>17</td>\n",
              "      <td>11</td>\n",
              "    </tr>\n",
              "    <tr>\n",
              "      <th>1</th>\n",
              "      <td>14</td>\n",
              "      <td>6</td>\n",
              "      <td>2</td>\n",
              "      <td>14</td>\n",
              "      <td>17</td>\n",
              "      <td>5</td>\n",
              "      <td>18</td>\n",
              "      <td>12</td>\n",
              "      <td>2</td>\n",
              "      <td>10</td>\n",
              "      <td>2</td>\n",
              "      <td>8</td>\n",
              "      <td>7</td>\n",
              "    </tr>\n",
              "  </tbody>\n",
              "</table>\n",
              "</div>"
            ],
            "text/plain": [
              "   jan/01  fev/01  mar/01  abr/01  ...  out/01  nov/01  dez/01  jan/02\n",
              "0       7       8      15      12  ...       1       3      17      11\n",
              "1      14       6       2      14  ...      10       2       8       7\n",
              "\n",
              "[2 rows x 13 columns]"
            ]
          },
          "metadata": {
            "tags": []
          },
          "execution_count": 34
        }
      ]
    },
    {
      "cell_type": "code",
      "metadata": {
        "colab": {
          "base_uri": "https://localhost:8080/",
          "height": 110
        },
        "id": "qH5LS0e2ACyn",
        "outputId": "100be670-dfc7-4d0a-c753-1d315421d368"
      },
      "source": [
        "# Nomear linhas\n",
        "df2.index = list([\"Fernando\", \"Manoela\"])\n",
        "df2"
      ],
      "execution_count": null,
      "outputs": [
        {
          "output_type": "execute_result",
          "data": {
            "text/html": [
              "<div>\n",
              "<style scoped>\n",
              "    .dataframe tbody tr th:only-of-type {\n",
              "        vertical-align: middle;\n",
              "    }\n",
              "\n",
              "    .dataframe tbody tr th {\n",
              "        vertical-align: top;\n",
              "    }\n",
              "\n",
              "    .dataframe thead th {\n",
              "        text-align: right;\n",
              "    }\n",
              "</style>\n",
              "<table border=\"1\" class=\"dataframe\">\n",
              "  <thead>\n",
              "    <tr style=\"text-align: right;\">\n",
              "      <th></th>\n",
              "      <th>jan/01</th>\n",
              "      <th>fev/01</th>\n",
              "      <th>mar/01</th>\n",
              "      <th>abr/01</th>\n",
              "      <th>mai/01</th>\n",
              "      <th>jun/01</th>\n",
              "      <th>jul/01</th>\n",
              "      <th>ago/01</th>\n",
              "      <th>set/01</th>\n",
              "      <th>out/01</th>\n",
              "      <th>nov/01</th>\n",
              "      <th>dez/01</th>\n",
              "      <th>jan/02</th>\n",
              "    </tr>\n",
              "  </thead>\n",
              "  <tbody>\n",
              "    <tr>\n",
              "      <th>Fernando</th>\n",
              "      <td>7</td>\n",
              "      <td>8</td>\n",
              "      <td>15</td>\n",
              "      <td>12</td>\n",
              "      <td>1</td>\n",
              "      <td>11</td>\n",
              "      <td>10</td>\n",
              "      <td>5</td>\n",
              "      <td>3</td>\n",
              "      <td>1</td>\n",
              "      <td>3</td>\n",
              "      <td>17</td>\n",
              "      <td>11</td>\n",
              "    </tr>\n",
              "    <tr>\n",
              "      <th>Manoela</th>\n",
              "      <td>14</td>\n",
              "      <td>6</td>\n",
              "      <td>2</td>\n",
              "      <td>14</td>\n",
              "      <td>17</td>\n",
              "      <td>5</td>\n",
              "      <td>18</td>\n",
              "      <td>12</td>\n",
              "      <td>2</td>\n",
              "      <td>10</td>\n",
              "      <td>2</td>\n",
              "      <td>8</td>\n",
              "      <td>7</td>\n",
              "    </tr>\n",
              "  </tbody>\n",
              "</table>\n",
              "</div>"
            ],
            "text/plain": [
              "          jan/01  fev/01  mar/01  abr/01  ...  out/01  nov/01  dez/01  jan/02\n",
              "Fernando       7       8      15      12  ...       1       3      17      11\n",
              "Manoela       14       6       2      14  ...      10       2       8       7\n",
              "\n",
              "[2 rows x 13 columns]"
            ]
          },
          "metadata": {
            "tags": []
          },
          "execution_count": 35
        }
      ]
    },
    {
      "cell_type": "code",
      "metadata": {
        "colab": {
          "base_uri": "https://localhost:8080/"
        },
        "id": "YG0CwciEAcxV",
        "outputId": "afa041a3-2645-41d2-9510-bb2f4c0af188"
      },
      "source": [
        "# Acessar elementos\n",
        "df2.iloc[0,0]"
      ],
      "execution_count": null,
      "outputs": [
        {
          "output_type": "execute_result",
          "data": {
            "text/plain": [
              "7"
            ]
          },
          "metadata": {
            "tags": []
          },
          "execution_count": 36
        }
      ]
    },
    {
      "cell_type": "code",
      "metadata": {
        "colab": {
          "base_uri": "https://localhost:8080/"
        },
        "id": "wQzoSx5uAlLg",
        "outputId": "ec0a3b4b-1fd1-4795-c50d-8c06e4a0ee08"
      },
      "source": [
        "df2.loc[\"Fernando\", \"ago/01\"]"
      ],
      "execution_count": null,
      "outputs": [
        {
          "output_type": "execute_result",
          "data": {
            "text/plain": [
              "5"
            ]
          },
          "metadata": {
            "tags": []
          },
          "execution_count": 37
        }
      ]
    },
    {
      "cell_type": "code",
      "metadata": {
        "colab": {
          "base_uri": "https://localhost:8080/"
        },
        "id": "8tPzR8KgAqEM",
        "outputId": "394037d8-8534-4c53-b943-9e1591ebc4d2"
      },
      "source": [
        "# Acessar múltiplos valores\n",
        "df2.loc[[\"Fernando\", \"Manoela\"], \"ago/01\"]"
      ],
      "execution_count": null,
      "outputs": [
        {
          "output_type": "execute_result",
          "data": {
            "text/plain": [
              "Fernando     5\n",
              "Manoela     12\n",
              "Name: ago/01, dtype: int64"
            ]
          },
          "metadata": {
            "tags": []
          },
          "execution_count": 38
        }
      ]
    },
    {
      "cell_type": "code",
      "metadata": {
        "colab": {
          "base_uri": "https://localhost:8080/"
        },
        "id": "ZiCav_MaA9HK",
        "outputId": "70c1ad94-cb4e-46c8-ae91-69b13be93ce3"
      },
      "source": [
        "# Ou:\n",
        "df2.loc[:, \"ago/01\"] # o dois pontos significa todas as linhas"
      ],
      "execution_count": null,
      "outputs": [
        {
          "output_type": "execute_result",
          "data": {
            "text/plain": [
              "Fernando     5\n",
              "Manoela     12\n",
              "Name: ago/01, dtype: int64"
            ]
          },
          "metadata": {
            "tags": []
          },
          "execution_count": 39
        }
      ]
    },
    {
      "cell_type": "code",
      "metadata": {
        "colab": {
          "base_uri": "https://localhost:8080/",
          "height": 295
        },
        "id": "Li4OkKhzBJLm",
        "outputId": "8c638416-adf1-475b-dc5d-96f1c44c54fa"
      },
      "source": [
        "# Estatísticas descritivas\n",
        "df2.describe()"
      ],
      "execution_count": null,
      "outputs": [
        {
          "output_type": "execute_result",
          "data": {
            "text/html": [
              "<div>\n",
              "<style scoped>\n",
              "    .dataframe tbody tr th:only-of-type {\n",
              "        vertical-align: middle;\n",
              "    }\n",
              "\n",
              "    .dataframe tbody tr th {\n",
              "        vertical-align: top;\n",
              "    }\n",
              "\n",
              "    .dataframe thead th {\n",
              "        text-align: right;\n",
              "    }\n",
              "</style>\n",
              "<table border=\"1\" class=\"dataframe\">\n",
              "  <thead>\n",
              "    <tr style=\"text-align: right;\">\n",
              "      <th></th>\n",
              "      <th>jan/01</th>\n",
              "      <th>fev/01</th>\n",
              "      <th>mar/01</th>\n",
              "      <th>abr/01</th>\n",
              "      <th>mai/01</th>\n",
              "      <th>jun/01</th>\n",
              "      <th>jul/01</th>\n",
              "      <th>ago/01</th>\n",
              "      <th>set/01</th>\n",
              "      <th>out/01</th>\n",
              "      <th>nov/01</th>\n",
              "      <th>dez/01</th>\n",
              "      <th>jan/02</th>\n",
              "    </tr>\n",
              "  </thead>\n",
              "  <tbody>\n",
              "    <tr>\n",
              "      <th>count</th>\n",
              "      <td>2.000000</td>\n",
              "      <td>2.000000</td>\n",
              "      <td>2.000000</td>\n",
              "      <td>2.000000</td>\n",
              "      <td>2.000000</td>\n",
              "      <td>2.000000</td>\n",
              "      <td>2.000000</td>\n",
              "      <td>2.000000</td>\n",
              "      <td>2.000000</td>\n",
              "      <td>2.000000</td>\n",
              "      <td>2.000000</td>\n",
              "      <td>2.000000</td>\n",
              "      <td>2.000000</td>\n",
              "    </tr>\n",
              "    <tr>\n",
              "      <th>mean</th>\n",
              "      <td>10.500000</td>\n",
              "      <td>7.000000</td>\n",
              "      <td>8.500000</td>\n",
              "      <td>13.000000</td>\n",
              "      <td>9.000000</td>\n",
              "      <td>8.000000</td>\n",
              "      <td>14.000000</td>\n",
              "      <td>8.500000</td>\n",
              "      <td>2.500000</td>\n",
              "      <td>5.500000</td>\n",
              "      <td>2.500000</td>\n",
              "      <td>12.500000</td>\n",
              "      <td>9.000000</td>\n",
              "    </tr>\n",
              "    <tr>\n",
              "      <th>std</th>\n",
              "      <td>4.949747</td>\n",
              "      <td>1.414214</td>\n",
              "      <td>9.192388</td>\n",
              "      <td>1.414214</td>\n",
              "      <td>11.313708</td>\n",
              "      <td>4.242641</td>\n",
              "      <td>5.656854</td>\n",
              "      <td>4.949747</td>\n",
              "      <td>0.707107</td>\n",
              "      <td>6.363961</td>\n",
              "      <td>0.707107</td>\n",
              "      <td>6.363961</td>\n",
              "      <td>2.828427</td>\n",
              "    </tr>\n",
              "    <tr>\n",
              "      <th>min</th>\n",
              "      <td>7.000000</td>\n",
              "      <td>6.000000</td>\n",
              "      <td>2.000000</td>\n",
              "      <td>12.000000</td>\n",
              "      <td>1.000000</td>\n",
              "      <td>5.000000</td>\n",
              "      <td>10.000000</td>\n",
              "      <td>5.000000</td>\n",
              "      <td>2.000000</td>\n",
              "      <td>1.000000</td>\n",
              "      <td>2.000000</td>\n",
              "      <td>8.000000</td>\n",
              "      <td>7.000000</td>\n",
              "    </tr>\n",
              "    <tr>\n",
              "      <th>25%</th>\n",
              "      <td>8.750000</td>\n",
              "      <td>6.500000</td>\n",
              "      <td>5.250000</td>\n",
              "      <td>12.500000</td>\n",
              "      <td>5.000000</td>\n",
              "      <td>6.500000</td>\n",
              "      <td>12.000000</td>\n",
              "      <td>6.750000</td>\n",
              "      <td>2.250000</td>\n",
              "      <td>3.250000</td>\n",
              "      <td>2.250000</td>\n",
              "      <td>10.250000</td>\n",
              "      <td>8.000000</td>\n",
              "    </tr>\n",
              "    <tr>\n",
              "      <th>50%</th>\n",
              "      <td>10.500000</td>\n",
              "      <td>7.000000</td>\n",
              "      <td>8.500000</td>\n",
              "      <td>13.000000</td>\n",
              "      <td>9.000000</td>\n",
              "      <td>8.000000</td>\n",
              "      <td>14.000000</td>\n",
              "      <td>8.500000</td>\n",
              "      <td>2.500000</td>\n",
              "      <td>5.500000</td>\n",
              "      <td>2.500000</td>\n",
              "      <td>12.500000</td>\n",
              "      <td>9.000000</td>\n",
              "    </tr>\n",
              "    <tr>\n",
              "      <th>75%</th>\n",
              "      <td>12.250000</td>\n",
              "      <td>7.500000</td>\n",
              "      <td>11.750000</td>\n",
              "      <td>13.500000</td>\n",
              "      <td>13.000000</td>\n",
              "      <td>9.500000</td>\n",
              "      <td>16.000000</td>\n",
              "      <td>10.250000</td>\n",
              "      <td>2.750000</td>\n",
              "      <td>7.750000</td>\n",
              "      <td>2.750000</td>\n",
              "      <td>14.750000</td>\n",
              "      <td>10.000000</td>\n",
              "    </tr>\n",
              "    <tr>\n",
              "      <th>max</th>\n",
              "      <td>14.000000</td>\n",
              "      <td>8.000000</td>\n",
              "      <td>15.000000</td>\n",
              "      <td>14.000000</td>\n",
              "      <td>17.000000</td>\n",
              "      <td>11.000000</td>\n",
              "      <td>18.000000</td>\n",
              "      <td>12.000000</td>\n",
              "      <td>3.000000</td>\n",
              "      <td>10.000000</td>\n",
              "      <td>3.000000</td>\n",
              "      <td>17.000000</td>\n",
              "      <td>11.000000</td>\n",
              "    </tr>\n",
              "  </tbody>\n",
              "</table>\n",
              "</div>"
            ],
            "text/plain": [
              "          jan/01    fev/01     mar/01  ...    nov/01     dez/01     jan/02\n",
              "count   2.000000  2.000000   2.000000  ...  2.000000   2.000000   2.000000\n",
              "mean   10.500000  7.000000   8.500000  ...  2.500000  12.500000   9.000000\n",
              "std     4.949747  1.414214   9.192388  ...  0.707107   6.363961   2.828427\n",
              "min     7.000000  6.000000   2.000000  ...  2.000000   8.000000   7.000000\n",
              "25%     8.750000  6.500000   5.250000  ...  2.250000  10.250000   8.000000\n",
              "50%    10.500000  7.000000   8.500000  ...  2.500000  12.500000   9.000000\n",
              "75%    12.250000  7.500000  11.750000  ...  2.750000  14.750000  10.000000\n",
              "max    14.000000  8.000000  15.000000  ...  3.000000  17.000000  11.000000\n",
              "\n",
              "[8 rows x 13 columns]"
            ]
          },
          "metadata": {
            "tags": []
          },
          "execution_count": 40
        }
      ]
    },
    {
      "cell_type": "markdown",
      "metadata": {
        "id": "ligZ9iuLCRBz"
      },
      "source": [
        "# Importar arquivo CSV"
      ]
    },
    {
      "cell_type": "code",
      "metadata": {
        "colab": {
          "base_uri": "https://localhost:8080/",
          "height": 110
        },
        "id": "IEKzWfnBCEDW",
        "outputId": "42172de7-9e2f-491d-9388-e565266e9e68"
      },
      "source": [
        "# Salvar objeto como arquivo CSV\n",
        "df2.to_csv(\"arquivo.csv\")\n",
        "\n",
        "# Importar\n",
        "df3 = pd.read_csv(\"arquivo.csv\")\n",
        "\n",
        "df3"
      ],
      "execution_count": null,
      "outputs": [
        {
          "output_type": "execute_result",
          "data": {
            "text/html": [
              "<div>\n",
              "<style scoped>\n",
              "    .dataframe tbody tr th:only-of-type {\n",
              "        vertical-align: middle;\n",
              "    }\n",
              "\n",
              "    .dataframe tbody tr th {\n",
              "        vertical-align: top;\n",
              "    }\n",
              "\n",
              "    .dataframe thead th {\n",
              "        text-align: right;\n",
              "    }\n",
              "</style>\n",
              "<table border=\"1\" class=\"dataframe\">\n",
              "  <thead>\n",
              "    <tr style=\"text-align: right;\">\n",
              "      <th></th>\n",
              "      <th>Unnamed: 0</th>\n",
              "      <th>jan/01</th>\n",
              "      <th>fev/01</th>\n",
              "      <th>mar/01</th>\n",
              "      <th>abr/01</th>\n",
              "      <th>mai/01</th>\n",
              "      <th>jun/01</th>\n",
              "      <th>jul/01</th>\n",
              "      <th>ago/01</th>\n",
              "      <th>set/01</th>\n",
              "      <th>out/01</th>\n",
              "      <th>nov/01</th>\n",
              "      <th>dez/01</th>\n",
              "      <th>jan/02</th>\n",
              "    </tr>\n",
              "  </thead>\n",
              "  <tbody>\n",
              "    <tr>\n",
              "      <th>0</th>\n",
              "      <td>Fernando</td>\n",
              "      <td>7</td>\n",
              "      <td>8</td>\n",
              "      <td>15</td>\n",
              "      <td>12</td>\n",
              "      <td>1</td>\n",
              "      <td>11</td>\n",
              "      <td>10</td>\n",
              "      <td>5</td>\n",
              "      <td>3</td>\n",
              "      <td>1</td>\n",
              "      <td>3</td>\n",
              "      <td>17</td>\n",
              "      <td>11</td>\n",
              "    </tr>\n",
              "    <tr>\n",
              "      <th>1</th>\n",
              "      <td>Manoela</td>\n",
              "      <td>14</td>\n",
              "      <td>6</td>\n",
              "      <td>2</td>\n",
              "      <td>14</td>\n",
              "      <td>17</td>\n",
              "      <td>5</td>\n",
              "      <td>18</td>\n",
              "      <td>12</td>\n",
              "      <td>2</td>\n",
              "      <td>10</td>\n",
              "      <td>2</td>\n",
              "      <td>8</td>\n",
              "      <td>7</td>\n",
              "    </tr>\n",
              "  </tbody>\n",
              "</table>\n",
              "</div>"
            ],
            "text/plain": [
              "  Unnamed: 0  jan/01  fev/01  mar/01  ...  out/01  nov/01  dez/01  jan/02\n",
              "0   Fernando       7       8      15  ...       1       3      17      11\n",
              "1    Manoela      14       6       2  ...      10       2       8       7\n",
              "\n",
              "[2 rows x 14 columns]"
            ]
          },
          "metadata": {
            "tags": []
          },
          "execution_count": 41
        }
      ]
    },
    {
      "cell_type": "markdown",
      "metadata": {
        "id": "RAcni9YwC1vz"
      },
      "source": [
        "# Importar arquivo Excel"
      ]
    },
    {
      "cell_type": "code",
      "metadata": {
        "colab": {
          "base_uri": "https://localhost:8080/",
          "height": 110
        },
        "id": "ziJMuBa2Co4J",
        "outputId": "f7e5d08b-6c33-4ac2-8057-3568d61a7155"
      },
      "source": [
        "# Salvar objeto como arquivo XLSX\n",
        "df2.to_excel(\"arquivo.xlsx\")\n",
        "\n",
        "# Importar\n",
        "df4 = pd.read_excel(\"arquivo.xlsx\")\n",
        "\n",
        "df4"
      ],
      "execution_count": null,
      "outputs": [
        {
          "output_type": "execute_result",
          "data": {
            "text/html": [
              "<div>\n",
              "<style scoped>\n",
              "    .dataframe tbody tr th:only-of-type {\n",
              "        vertical-align: middle;\n",
              "    }\n",
              "\n",
              "    .dataframe tbody tr th {\n",
              "        vertical-align: top;\n",
              "    }\n",
              "\n",
              "    .dataframe thead th {\n",
              "        text-align: right;\n",
              "    }\n",
              "</style>\n",
              "<table border=\"1\" class=\"dataframe\">\n",
              "  <thead>\n",
              "    <tr style=\"text-align: right;\">\n",
              "      <th></th>\n",
              "      <th>Unnamed: 0</th>\n",
              "      <th>jan/01</th>\n",
              "      <th>fev/01</th>\n",
              "      <th>mar/01</th>\n",
              "      <th>abr/01</th>\n",
              "      <th>mai/01</th>\n",
              "      <th>jun/01</th>\n",
              "      <th>jul/01</th>\n",
              "      <th>ago/01</th>\n",
              "      <th>set/01</th>\n",
              "      <th>out/01</th>\n",
              "      <th>nov/01</th>\n",
              "      <th>dez/01</th>\n",
              "      <th>jan/02</th>\n",
              "    </tr>\n",
              "  </thead>\n",
              "  <tbody>\n",
              "    <tr>\n",
              "      <th>0</th>\n",
              "      <td>Fernando</td>\n",
              "      <td>7</td>\n",
              "      <td>8</td>\n",
              "      <td>15</td>\n",
              "      <td>12</td>\n",
              "      <td>1</td>\n",
              "      <td>11</td>\n",
              "      <td>10</td>\n",
              "      <td>5</td>\n",
              "      <td>3</td>\n",
              "      <td>1</td>\n",
              "      <td>3</td>\n",
              "      <td>17</td>\n",
              "      <td>11</td>\n",
              "    </tr>\n",
              "    <tr>\n",
              "      <th>1</th>\n",
              "      <td>Manoela</td>\n",
              "      <td>14</td>\n",
              "      <td>6</td>\n",
              "      <td>2</td>\n",
              "      <td>14</td>\n",
              "      <td>17</td>\n",
              "      <td>5</td>\n",
              "      <td>18</td>\n",
              "      <td>12</td>\n",
              "      <td>2</td>\n",
              "      <td>10</td>\n",
              "      <td>2</td>\n",
              "      <td>8</td>\n",
              "      <td>7</td>\n",
              "    </tr>\n",
              "  </tbody>\n",
              "</table>\n",
              "</div>"
            ],
            "text/plain": [
              "  Unnamed: 0  jan/01  fev/01  mar/01  ...  out/01  nov/01  dez/01  jan/02\n",
              "0   Fernando       7       8      15  ...       1       3      17      11\n",
              "1    Manoela      14       6       2  ...      10       2       8       7\n",
              "\n",
              "[2 rows x 14 columns]"
            ]
          },
          "metadata": {
            "tags": []
          },
          "execution_count": 42
        }
      ]
    },
    {
      "cell_type": "code",
      "metadata": {
        "id": "RBn4vll5DCke"
      },
      "source": [
        "# Exercício"
      ],
      "execution_count": 1,
      "outputs": []
    },
    {
      "cell_type": "code",
      "metadata": {
        "colab": {
          "base_uri": "https://localhost:8080/",
          "height": 234
        },
        "id": "ER4Vj-RflnS-",
        "outputId": "f7ca1682-2d31-4009-bc1e-d9ba062b6ee4"
      },
      "source": [
        "# 1. Importe a base de dados DadosDemograficos.csv\n",
        "dados = pd.read_csv(\"https://drive.google.com/uc?id=1cFWkYTwxNl-C-Yrdvy3U3WuRXH0WYVJW&export=download\")\n",
        "\n",
        "# 2. Visualize as 6 primeiras linhas. (dica: função head\n",
        "dados.head(6)"
      ],
      "execution_count": 14,
      "outputs": [
        {
          "output_type": "execute_result",
          "data": {
            "text/html": [
              "<div>\n",
              "<style scoped>\n",
              "    .dataframe tbody tr th:only-of-type {\n",
              "        vertical-align: middle;\n",
              "    }\n",
              "\n",
              "    .dataframe tbody tr th {\n",
              "        vertical-align: top;\n",
              "    }\n",
              "\n",
              "    .dataframe thead th {\n",
              "        text-align: right;\n",
              "    }\n",
              "</style>\n",
              "<table border=\"1\" class=\"dataframe\">\n",
              "  <thead>\n",
              "    <tr style=\"text-align: right;\">\n",
              "      <th></th>\n",
              "      <th>Country Name</th>\n",
              "      <th>Country Code</th>\n",
              "      <th>Birth rate</th>\n",
              "      <th>Internet users</th>\n",
              "      <th>Income Group</th>\n",
              "    </tr>\n",
              "  </thead>\n",
              "  <tbody>\n",
              "    <tr>\n",
              "      <th>0</th>\n",
              "      <td>Aruba</td>\n",
              "      <td>ABW</td>\n",
              "      <td>10.244</td>\n",
              "      <td>78.9</td>\n",
              "      <td>High income</td>\n",
              "    </tr>\n",
              "    <tr>\n",
              "      <th>1</th>\n",
              "      <td>Afghanistan</td>\n",
              "      <td>AFG</td>\n",
              "      <td>35.253</td>\n",
              "      <td>5.9</td>\n",
              "      <td>Low income</td>\n",
              "    </tr>\n",
              "    <tr>\n",
              "      <th>2</th>\n",
              "      <td>Angola</td>\n",
              "      <td>AGO</td>\n",
              "      <td>45.985</td>\n",
              "      <td>19.1</td>\n",
              "      <td>Upper middle income</td>\n",
              "    </tr>\n",
              "    <tr>\n",
              "      <th>3</th>\n",
              "      <td>Albania</td>\n",
              "      <td>ALB</td>\n",
              "      <td>12.877</td>\n",
              "      <td>57.2</td>\n",
              "      <td>Upper middle income</td>\n",
              "    </tr>\n",
              "    <tr>\n",
              "      <th>4</th>\n",
              "      <td>United Arab Emirates</td>\n",
              "      <td>ARE</td>\n",
              "      <td>11.044</td>\n",
              "      <td>88.0</td>\n",
              "      <td>High income</td>\n",
              "    </tr>\n",
              "    <tr>\n",
              "      <th>5</th>\n",
              "      <td>Argentina</td>\n",
              "      <td>ARG</td>\n",
              "      <td>17.716</td>\n",
              "      <td>59.9</td>\n",
              "      <td>High income</td>\n",
              "    </tr>\n",
              "  </tbody>\n",
              "</table>\n",
              "</div>"
            ],
            "text/plain": [
              "           Country Name Country Code  ...  Internet users         Income Group\n",
              "0                 Aruba          ABW  ...            78.9          High income\n",
              "1           Afghanistan          AFG  ...             5.9           Low income\n",
              "2                Angola          AGO  ...            19.1  Upper middle income\n",
              "3               Albania          ALB  ...            57.2  Upper middle income\n",
              "4  United Arab Emirates          ARE  ...            88.0          High income\n",
              "5             Argentina          ARG  ...            59.9          High income\n",
              "\n",
              "[6 rows x 5 columns]"
            ]
          },
          "metadata": {},
          "execution_count": 14
        }
      ]
    },
    {
      "cell_type": "code",
      "metadata": {
        "colab": {
          "base_uri": "https://localhost:8080/"
        },
        "id": "RyJPNKiqmRo0",
        "outputId": "d8ef1667-31e0-4394-9a29-3011edeccfe3"
      },
      "source": [
        "# 3. Que país tem alta taxa de nascimento (>35), poucas pessoas com acesso à internet (<25) e alta renda ? (dica: operador e: &)\n",
        "filtro = (dados[\"Birth rate\"] > 35) & (dados[\"Internet users\"] < 25) & (dados[\"Income Group\"] == \"High income\")\n",
        "filtro"
      ],
      "execution_count": 16,
      "outputs": [
        {
          "output_type": "execute_result",
          "data": {
            "text/plain": [
              "0      False\n",
              "1      False\n",
              "2      False\n",
              "3      False\n",
              "4      False\n",
              "       ...  \n",
              "190    False\n",
              "191    False\n",
              "192    False\n",
              "193    False\n",
              "194    False\n",
              "Length: 195, dtype: bool"
            ]
          },
          "metadata": {},
          "execution_count": 16
        }
      ]
    },
    {
      "cell_type": "code",
      "metadata": {
        "colab": {
          "base_uri": "https://localhost:8080/",
          "height": 80
        },
        "id": "fZQePG2CnM-x",
        "outputId": "ccbde1e9-d1a0-46d4-9ab2-ec60ee129623"
      },
      "source": [
        "dados[filtro] # país com verdadeiro"
      ],
      "execution_count": 17,
      "outputs": [
        {
          "output_type": "execute_result",
          "data": {
            "text/html": [
              "<div>\n",
              "<style scoped>\n",
              "    .dataframe tbody tr th:only-of-type {\n",
              "        vertical-align: middle;\n",
              "    }\n",
              "\n",
              "    .dataframe tbody tr th {\n",
              "        vertical-align: top;\n",
              "    }\n",
              "\n",
              "    .dataframe thead th {\n",
              "        text-align: right;\n",
              "    }\n",
              "</style>\n",
              "<table border=\"1\" class=\"dataframe\">\n",
              "  <thead>\n",
              "    <tr style=\"text-align: right;\">\n",
              "      <th></th>\n",
              "      <th>Country Name</th>\n",
              "      <th>Country Code</th>\n",
              "      <th>Birth rate</th>\n",
              "      <th>Internet users</th>\n",
              "      <th>Income Group</th>\n",
              "    </tr>\n",
              "  </thead>\n",
              "  <tbody>\n",
              "    <tr>\n",
              "      <th>67</th>\n",
              "      <td>Equatorial Guinea</td>\n",
              "      <td>GNQ</td>\n",
              "      <td>35.362</td>\n",
              "      <td>16.4</td>\n",
              "      <td>High income</td>\n",
              "    </tr>\n",
              "  </tbody>\n",
              "</table>\n",
              "</div>"
            ],
            "text/plain": [
              "         Country Name Country Code  Birth rate  Internet users Income Group\n",
              "67  Equatorial Guinea          GNQ      35.362            16.4  High income"
            ]
          },
          "metadata": {},
          "execution_count": 17
        }
      ]
    },
    {
      "cell_type": "code",
      "metadata": {
        "colab": {
          "base_uri": "https://localhost:8080/"
        },
        "id": "B5lEJrZioncW",
        "outputId": "1f074fd6-1b69-4d9b-ce1f-837a353bf2c8"
      },
      "source": [
        "# 4. Que país tem alta taxa de nascimento (>45 ), poucas pessoas com acesso à internet (<25) e renda média alta?\n",
        "filtro2 = (dados[\"Birth rate\"] > 45) & (dados[\"Internet users\"] < 25) & (dados[\"Income Group\"] == \"Upper middle income\")\n",
        "filtro2"
      ],
      "execution_count": 24,
      "outputs": [
        {
          "output_type": "execute_result",
          "data": {
            "text/plain": [
              "0      False\n",
              "1      False\n",
              "2       True\n",
              "3      False\n",
              "4      False\n",
              "       ...  \n",
              "190    False\n",
              "191    False\n",
              "192    False\n",
              "193    False\n",
              "194    False\n",
              "Length: 195, dtype: bool"
            ]
          },
          "metadata": {},
          "execution_count": 24
        }
      ]
    },
    {
      "cell_type": "code",
      "metadata": {
        "colab": {
          "base_uri": "https://localhost:8080/",
          "height": 80
        },
        "id": "a_ZP_Xk3plyX",
        "outputId": "021b7acf-d6c1-4350-e607-731cb8b71a4f"
      },
      "source": [
        "dados[filtro2]"
      ],
      "execution_count": 25,
      "outputs": [
        {
          "output_type": "execute_result",
          "data": {
            "text/html": [
              "<div>\n",
              "<style scoped>\n",
              "    .dataframe tbody tr th:only-of-type {\n",
              "        vertical-align: middle;\n",
              "    }\n",
              "\n",
              "    .dataframe tbody tr th {\n",
              "        vertical-align: top;\n",
              "    }\n",
              "\n",
              "    .dataframe thead th {\n",
              "        text-align: right;\n",
              "    }\n",
              "</style>\n",
              "<table border=\"1\" class=\"dataframe\">\n",
              "  <thead>\n",
              "    <tr style=\"text-align: right;\">\n",
              "      <th></th>\n",
              "      <th>Country Name</th>\n",
              "      <th>Country Code</th>\n",
              "      <th>Birth rate</th>\n",
              "      <th>Internet users</th>\n",
              "      <th>Income Group</th>\n",
              "    </tr>\n",
              "  </thead>\n",
              "  <tbody>\n",
              "    <tr>\n",
              "      <th>2</th>\n",
              "      <td>Angola</td>\n",
              "      <td>AGO</td>\n",
              "      <td>45.985</td>\n",
              "      <td>19.1</td>\n",
              "      <td>Upper middle income</td>\n",
              "    </tr>\n",
              "  </tbody>\n",
              "</table>\n",
              "</div>"
            ],
            "text/plain": [
              "  Country Name Country Code  Birth rate  Internet users         Income Group\n",
              "2       Angola          AGO      45.985            19.1  Upper middle income"
            ]
          },
          "metadata": {},
          "execution_count": 25
        }
      ]
    },
    {
      "cell_type": "code",
      "metadata": {
        "colab": {
          "base_uri": "https://localhost:8080/"
        },
        "id": "peAw-M9IpmQi",
        "outputId": "190fbcc9-6559-4527-c0cb-a75d80f02ec1"
      },
      "source": [
        "# 5.Imprima todas as informações de Malta.\n",
        "filtro3 = dados[\"Country Name\"] == \"Malta\"\n",
        "filtro3"
      ],
      "execution_count": 26,
      "outputs": [
        {
          "output_type": "execute_result",
          "data": {
            "text/plain": [
              "0      False\n",
              "1      False\n",
              "2      False\n",
              "3      False\n",
              "4      False\n",
              "       ...  \n",
              "190    False\n",
              "191    False\n",
              "192    False\n",
              "193    False\n",
              "194    False\n",
              "Name: Country Name, Length: 195, dtype: bool"
            ]
          },
          "metadata": {},
          "execution_count": 26
        }
      ]
    },
    {
      "cell_type": "code",
      "metadata": {
        "colab": {
          "base_uri": "https://localhost:8080/",
          "height": 80
        },
        "id": "qb3RVaQvqnxw",
        "outputId": "e1918275-7abd-478d-f3ff-c3c0725e4f44"
      },
      "source": [
        "dados[filtro3]"
      ],
      "execution_count": 27,
      "outputs": [
        {
          "output_type": "execute_result",
          "data": {
            "text/html": [
              "<div>\n",
              "<style scoped>\n",
              "    .dataframe tbody tr th:only-of-type {\n",
              "        vertical-align: middle;\n",
              "    }\n",
              "\n",
              "    .dataframe tbody tr th {\n",
              "        vertical-align: top;\n",
              "    }\n",
              "\n",
              "    .dataframe thead th {\n",
              "        text-align: right;\n",
              "    }\n",
              "</style>\n",
              "<table border=\"1\" class=\"dataframe\">\n",
              "  <thead>\n",
              "    <tr style=\"text-align: right;\">\n",
              "      <th></th>\n",
              "      <th>Country Name</th>\n",
              "      <th>Country Code</th>\n",
              "      <th>Birth rate</th>\n",
              "      <th>Internet users</th>\n",
              "      <th>Income Group</th>\n",
              "    </tr>\n",
              "  </thead>\n",
              "  <tbody>\n",
              "    <tr>\n",
              "      <th>116</th>\n",
              "      <td>Malta</td>\n",
              "      <td>MLT</td>\n",
              "      <td>9.5</td>\n",
              "      <td>68.9138</td>\n",
              "      <td>High income</td>\n",
              "    </tr>\n",
              "  </tbody>\n",
              "</table>\n",
              "</div>"
            ],
            "text/plain": [
              "    Country Name Country Code  Birth rate  Internet users Income Group\n",
              "116        Malta          MLT         9.5         68.9138  High income"
            ]
          },
          "metadata": {},
          "execution_count": 27
        }
      ]
    },
    {
      "cell_type": "code",
      "metadata": {
        "id": "92saW49DqpCx"
      },
      "source": [
        ""
      ],
      "execution_count": null,
      "outputs": []
    }
  ]
}