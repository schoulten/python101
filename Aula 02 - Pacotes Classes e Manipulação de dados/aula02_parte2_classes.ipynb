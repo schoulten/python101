{
  "nbformat": 4,
  "nbformat_minor": 0,
  "metadata": {
    "colab": {
      "name": "aula02_pacotes_classes_parte2.ipynb",
      "provenance": [],
      "collapsed_sections": []
    },
    "kernelspec": {
      "name": "python3",
      "display_name": "Python 3"
    },
    "language_info": {
      "name": "python"
    }
  },
  "cells": [
    {
      "cell_type": "markdown",
      "metadata": {
        "id": "-voPIz3xtSlv"
      },
      "source": [
        "# Classes"
      ]
    },
    {
      "cell_type": "code",
      "metadata": {
        "id": "io08RXbotVGj"
      },
      "source": [
        "# Criar uma classe\n",
        "class funcionario:\n",
        "  empresa = \"FURG\" # atributo global para objetos gerados pela classe\n",
        "  def __init__(self, nome, cargo, ano_admissao):  # criar um construtor / self é parâmetro para acessar objetos/variáveis dentro da classe\n",
        "    self.nome = nome # atributos da classe\n",
        "    self.cargo = cargo\n",
        "    self.ano_admissao = ano_admissao"
      ],
      "execution_count": null,
      "outputs": []
    },
    {
      "cell_type": "code",
      "metadata": {
        "id": "-Hsxh6cAuEEc"
      },
      "source": [
        "# Criar um objeto\n",
        "func1 = funcionario(\"Fernando\", \"Economista\", 2020)"
      ],
      "execution_count": null,
      "outputs": []
    },
    {
      "cell_type": "code",
      "metadata": {
        "colab": {
          "base_uri": "https://localhost:8080/",
          "height": 35
        },
        "id": "jCkN-GbMusPy",
        "outputId": "15eb96b4-ab56-43f6-ba67-54bdf8c8b0a4"
      },
      "source": [
        "# Acessar variáveis\n",
        "func1.cargo"
      ],
      "execution_count": null,
      "outputs": [
        {
          "output_type": "execute_result",
          "data": {
            "application/vnd.google.colaboratory.intrinsic+json": {
              "type": "string"
            },
            "text/plain": [
              "'Economista'"
            ]
          },
          "metadata": {
            "tags": []
          },
          "execution_count": 12
        }
      ]
    },
    {
      "cell_type": "code",
      "metadata": {
        "colab": {
          "base_uri": "https://localhost:8080/",
          "height": 35
        },
        "id": "CJf3dEW4vae9",
        "outputId": "f0de35c7-df9f-43af-91de-f860f7f79ff0"
      },
      "source": [
        "func1.empresa"
      ],
      "execution_count": null,
      "outputs": [
        {
          "output_type": "execute_result",
          "data": {
            "application/vnd.google.colaboratory.intrinsic+json": {
              "type": "string"
            },
            "text/plain": [
              "'FURG'"
            ]
          },
          "metadata": {
            "tags": []
          },
          "execution_count": 13
        }
      ]
    },
    {
      "cell_type": "code",
      "metadata": {
        "id": "XBRvewUQv_pA"
      },
      "source": [
        "# Modificar variáveis do objeto\n",
        "func1.cargo = \"Cientista de dados\""
      ],
      "execution_count": null,
      "outputs": []
    },
    {
      "cell_type": "code",
      "metadata": {
        "colab": {
          "base_uri": "https://localhost:8080/",
          "height": 35
        },
        "id": "pcr73IWfwVY5",
        "outputId": "5573c639-9abc-482f-81b5-96a2be04b5db"
      },
      "source": [
        "func1.cargo"
      ],
      "execution_count": null,
      "outputs": [
        {
          "output_type": "execute_result",
          "data": {
            "application/vnd.google.colaboratory.intrinsic+json": {
              "type": "string"
            },
            "text/plain": [
              "'Cientista de dados'"
            ]
          },
          "metadata": {
            "tags": []
          },
          "execution_count": 15
        }
      ]
    },
    {
      "cell_type": "markdown",
      "metadata": {
        "id": "YrwvzruFwhZI"
      },
      "source": [
        "# Criação de métodos"
      ]
    },
    {
      "cell_type": "code",
      "metadata": {
        "id": "MOuN0DO9wgm6"
      },
      "source": [
        "# Criar classe com mais métodos\n",
        "class funcionario:\n",
        "  empresa = \"FURG\" # atributo global para objetos gerados pela classe\n",
        "  def __init__(self, nome, cargo, ano_admissao):  # criar um construtor / self é parâmetro para acessar objetos/variáveis dentro da classe\n",
        "    self.nome = nome # atributos da classe\n",
        "    self.__cargo = cargo # variável/atributo privado (convenção) \n",
        "    self.ano_admissao = ano_admissao\n",
        "\n",
        "  def atualizar_cargo(self, novo_cargo):\n",
        "    self.__cargo = novo_cargo\n",
        "\n",
        "  def descricao(self):\n",
        "    print(\"Eu sou o funcionário \" + self.nome + \", atuo no cargo \" + self.__cargo + \".\")"
      ],
      "execution_count": null,
      "outputs": []
    },
    {
      "cell_type": "code",
      "metadata": {
        "id": "GCFtmGnewWp4"
      },
      "source": [
        "func1 = funcionario(\"Fernando\", \"Economista\", 2020)"
      ],
      "execution_count": null,
      "outputs": []
    },
    {
      "cell_type": "code",
      "metadata": {
        "colab": {
          "base_uri": "https://localhost:8080/",
          "height": 167
        },
        "id": "3GD6ozxPxj0A",
        "outputId": "3a7b5e51-dd64-4733-a5c3-efb120cb3ea8"
      },
      "source": [
        "func1.__cargo # gera erro"
      ],
      "execution_count": null,
      "outputs": [
        {
          "output_type": "error",
          "ename": "AttributeError",
          "evalue": "ignored",
          "traceback": [
            "\u001b[0;31m---------------------------------------------------------------------------\u001b[0m",
            "\u001b[0;31mAttributeError\u001b[0m                            Traceback (most recent call last)",
            "\u001b[0;32m<ipython-input-43-eee17c6444b1>\u001b[0m in \u001b[0;36m<module>\u001b[0;34m()\u001b[0m\n\u001b[0;32m----> 1\u001b[0;31m \u001b[0mfunc1\u001b[0m\u001b[0;34m.\u001b[0m\u001b[0m__cargo\u001b[0m \u001b[0;31m# gera erro\u001b[0m\u001b[0;34m\u001b[0m\u001b[0;34m\u001b[0m\u001b[0m\n\u001b[0m",
            "\u001b[0;31mAttributeError\u001b[0m: 'funcionario' object has no attribute '__cargo'"
          ]
        }
      ]
    },
    {
      "cell_type": "code",
      "metadata": {
        "colab": {
          "base_uri": "https://localhost:8080/",
          "height": 35
        },
        "id": "72VAI_18yvqa",
        "outputId": "538d74e6-ada7-4979-f9e8-7daaedcdbe44"
      },
      "source": [
        "func1._funcionario__cargo # alternativa"
      ],
      "execution_count": null,
      "outputs": [
        {
          "output_type": "execute_result",
          "data": {
            "application/vnd.google.colaboratory.intrinsic+json": {
              "type": "string"
            },
            "text/plain": [
              "'Economista'"
            ]
          },
          "metadata": {
            "tags": []
          },
          "execution_count": 44
        }
      ]
    },
    {
      "cell_type": "code",
      "metadata": {
        "id": "hitDSHT4xl4P"
      },
      "source": [
        "# Executar métodos do objeto\n",
        "func1.atualizar_cargo(\"Analista\")"
      ],
      "execution_count": null,
      "outputs": []
    },
    {
      "cell_type": "code",
      "metadata": {
        "colab": {
          "base_uri": "https://localhost:8080/"
        },
        "id": "KxSoWjn8yESw",
        "outputId": "d60ae005-4d90-4c08-811c-1f00084dd8bc"
      },
      "source": [
        "func1.descricao()"
      ],
      "execution_count": null,
      "outputs": [
        {
          "output_type": "stream",
          "text": [
            "Eu sou o funcionário Fernando, atuo no cargo Analista.\n"
          ],
          "name": "stdout"
        }
      ]
    },
    {
      "cell_type": "markdown",
      "metadata": {
        "id": "Au1l3Gv9zPNT"
      },
      "source": [
        "# Herança"
      ]
    },
    {
      "cell_type": "code",
      "metadata": {
        "id": "SgmyoIc-ydS1"
      },
      "source": [
        "# Classe base\n",
        "class funcionario:\n",
        "  empresa = \"FURG\"\n",
        "  def __init__(self, nome, ano_admissao): \n",
        "    self.nome = nome \n",
        "    self.ano_admissao = ano_admissao\n",
        "\n",
        "  def descricao(self):\n",
        "    print(\"Eu sou o funcionário \" + self.nome + \"\\nAno de admissão: \" + str(self.ano_admissao))\n",
        "\n",
        "# Classe cargo\n",
        "class economista(funcionario): # herança da classe funcionario (classe base)\n",
        "  def __init__(self, nome, ano_admissao, n_projetos):\n",
        "    super().__init__(nome, ano_admissao) # chama construtor da classe base / instanci a classe herdada\n",
        "    self.n_projetos = n_projetos\n",
        "\n",
        "  def consulta_n_projetos(self):\n",
        "    print(self.n_projetos)\n"
      ],
      "execution_count": null,
      "outputs": []
    },
    {
      "cell_type": "code",
      "metadata": {
        "id": "BtF8yzfV2Icj"
      },
      "source": [
        "# Instância de funcionário\n",
        "func1 = funcionario(\"Fernando\", 2020)"
      ],
      "execution_count": null,
      "outputs": []
    },
    {
      "cell_type": "code",
      "metadata": {
        "colab": {
          "base_uri": "https://localhost:8080/"
        },
        "id": "XPI_fvn62keZ",
        "outputId": "9addd782-3517-458f-db9e-8dcc13e06eba"
      },
      "source": [
        "func1.descricao()"
      ],
      "execution_count": null,
      "outputs": [
        {
          "output_type": "stream",
          "text": [
            "Eu sou o funcionário Fernando\n",
            "Ano de admissão: 2020\n"
          ],
          "name": "stdout"
        }
      ]
    },
    {
      "cell_type": "code",
      "metadata": {
        "id": "dA7e3jOa2qQT"
      },
      "source": [
        "# Instância de economista (que também é funcionário)\n",
        "cargo1 = economista(\"Fernando\", 2020, 3)"
      ],
      "execution_count": null,
      "outputs": []
    },
    {
      "cell_type": "code",
      "metadata": {
        "colab": {
          "base_uri": "https://localhost:8080/"
        },
        "id": "Hxf-BpSd3D_D",
        "outputId": "186ead00-db6b-4231-9544-370bda6609c1"
      },
      "source": [
        "cargo1.descricao()"
      ],
      "execution_count": null,
      "outputs": [
        {
          "output_type": "stream",
          "text": [
            "Eu sou o funcionário Fernando\n",
            "Ano de admissão: 2020\n"
          ],
          "name": "stdout"
        }
      ]
    },
    {
      "cell_type": "code",
      "metadata": {
        "colab": {
          "base_uri": "https://localhost:8080/"
        },
        "id": "G55gIWRk3FFi",
        "outputId": "4b5d15e7-acd1-445b-85ae-1d2fa6f5f411"
      },
      "source": [
        "cargo1.consulta_n_projetos()"
      ],
      "execution_count": null,
      "outputs": [
        {
          "output_type": "stream",
          "text": [
            "3\n"
          ],
          "name": "stdout"
        }
      ]
    },
    {
      "cell_type": "markdown",
      "metadata": {
        "id": "AqL7uWMbEiaR"
      },
      "source": [
        "# Override"
      ]
    },
    {
      "cell_type": "code",
      "metadata": {
        "id": "H1UFQhtKEVKg"
      },
      "source": [
        "# Classe base\n",
        "class funcionario:\n",
        "  empresa = \"FURG\"\n",
        "  def __init__(self, nome, ano_admissao): \n",
        "    self.nome = nome \n",
        "    self.ano_admissao = ano_admissao\n",
        "\n",
        "  def descricao(self):\n",
        "    print(\"Eu sou o funcionário \" + self.nome + \"\\nAno de admissão: \" + str(self.ano_admissao))\n",
        "\n",
        "# Classe cargo\n",
        "class economista(funcionario): # herança da classe funcionario (classe base)\n",
        "  def __init__(self, nome, ano_admissao, n_projetos):\n",
        "    super().__init__(nome, ano_admissao) # chama construtor da classe base / instancia classe herdada\n",
        "    self.n_projetos = n_projetos\n",
        "\n",
        "  def consulta_n_projetos(self):\n",
        "    print(self.n_projetos)\n",
        "\n",
        "  def descricao(self):\n",
        "    print(\"Sou um economista\")"
      ],
      "execution_count": null,
      "outputs": []
    },
    {
      "cell_type": "code",
      "metadata": {
        "id": "6Uge84DZE0aa"
      },
      "source": [
        "cargo1 = economista(\"Fernando\", 2020, 3)"
      ],
      "execution_count": null,
      "outputs": []
    },
    {
      "cell_type": "code",
      "metadata": {
        "colab": {
          "base_uri": "https://localhost:8080/"
        },
        "id": "U1BDBZwHE4Jh",
        "outputId": "7bde8cca-7582-4c04-c85b-8ac9d1113d50"
      },
      "source": [
        "cargo1.descricao()"
      ],
      "execution_count": null,
      "outputs": [
        {
          "output_type": "stream",
          "text": [
            "Sou um economista\n"
          ],
          "name": "stdout"
        }
      ]
    },
    {
      "cell_type": "code",
      "metadata": {
        "id": "7S-4uzv0E5rM"
      },
      "source": [
        "func1 = funcionario(\"Fernando\", 2020)"
      ],
      "execution_count": null,
      "outputs": []
    },
    {
      "cell_type": "code",
      "metadata": {
        "colab": {
          "base_uri": "https://localhost:8080/"
        },
        "id": "jXsv-MAsE_Xv",
        "outputId": "0e95e00a-9e58-43c8-b2f6-34b264ff6dcd"
      },
      "source": [
        "func1.descricao()"
      ],
      "execution_count": null,
      "outputs": [
        {
          "output_type": "stream",
          "text": [
            "Eu sou o funcionário Fernando\n",
            "Ano de admissão: 2020\n"
          ],
          "name": "stdout"
        }
      ]
    },
    {
      "cell_type": "code",
      "metadata": {
        "id": "p9tZR_zXFAS6"
      },
      "source": [
        "# Fazer override mantendo a execução da classe herdada\n",
        "# Classe base\n",
        "class funcionario:\n",
        "  empresa = \"FURG\"\n",
        "  def __init__(self, nome, ano_admissao): \n",
        "    self.nome = nome \n",
        "    self.ano_admissao = ano_admissao\n",
        "\n",
        "  def descricao(self):\n",
        "    print(\"Eu sou o funcionário \" + self.nome + \"\\nAno de admissão: \" + str(self.ano_admissao))\n",
        "\n",
        "# Classe cargo\n",
        "class economista(funcionario): # herança da classe funcionario (classe base)\n",
        "  def __init__(self, nome, ano_admissao, n_projetos):\n",
        "    super().__init__(nome, ano_admissao) # chama construtor da classe base / instancia classe herdada\n",
        "    self.n_projetos = n_projetos\n",
        "\n",
        "  def consulta_n_projetos(self):\n",
        "    print(self.n_projetos)\n",
        "\n",
        "  def descricao(self):\n",
        "    super().descricao() ## pega a descrição da classe base\n",
        "    print(\"Sou um economista\")"
      ],
      "execution_count": null,
      "outputs": []
    },
    {
      "cell_type": "code",
      "metadata": {
        "colab": {
          "base_uri": "https://localhost:8080/"
        },
        "id": "HAn5_yxmFd-7",
        "outputId": "9d284555-11c6-4752-b7a7-bc2af3f5a5aa"
      },
      "source": [
        "cargo1 = economista(\"Fernando\", 2020, 3)\n",
        "cargo1.descricao()"
      ],
      "execution_count": null,
      "outputs": [
        {
          "output_type": "stream",
          "text": [
            "Eu sou o funcionário Fernando\n",
            "Ano de admissão: 2020\n",
            "Sou um economista\n"
          ],
          "name": "stdout"
        }
      ]
    },
    {
      "cell_type": "markdown",
      "metadata": {
        "id": "44enut0oGK1R"
      },
      "source": [
        "# Exercícios"
      ]
    },
    {
      "cell_type": "code",
      "metadata": {
        "id": "uns5U7_YFhlG"
      },
      "source": [
        "# Exercício 1\n",
        "# Crie uma classe carro que receba em seu construtor as variáveis cor , ano , modelo , tipo_combustível\n",
        "\n",
        "class Carro:\n",
        "  def __init__(self, cor, ano, modelo, tipo_combustivel):\n",
        "    self.cor = cor\n",
        "    self.ano = ano\n",
        "    self.modelo = modelo\n",
        "    self.tipo_combustivel = tipo_combustivel"
      ],
      "execution_count": 1,
      "outputs": []
    },
    {
      "cell_type": "code",
      "metadata": {
        "id": "4jAP3hJwc3f9"
      },
      "source": [
        "# instanciar\n",
        "meu_carro = Carro(\"branco\", 2016, \"hb20\", \"flex\")"
      ],
      "execution_count": 2,
      "outputs": []
    },
    {
      "cell_type": "code",
      "metadata": {
        "colab": {
          "base_uri": "https://localhost:8080/"
        },
        "id": "rR6MWEi7dBWl",
        "outputId": "16031414-c704-487f-e996-0d53f5efa44d"
      },
      "source": [
        "meu_carro.ano"
      ],
      "execution_count": 4,
      "outputs": [
        {
          "output_type": "execute_result",
          "data": {
            "text/plain": [
              "2016"
            ]
          },
          "metadata": {
            "tags": []
          },
          "execution_count": 4
        }
      ]
    },
    {
      "cell_type": "code",
      "metadata": {
        "colab": {
          "base_uri": "https://localhost:8080/"
        },
        "id": "uMAtTvUSdEv4",
        "outputId": "16cc0b54-bd5c-4a59-e42c-3ef734e46062"
      },
      "source": [
        "# Crie os métodos dentro da classe carro: ligar, desligar e acelerar. Implemente algo dentro destes métodos (pode ser um print)\n",
        "class Carro:\n",
        "  def __init__(self, cor, ano, modelo, tipo_combustivel):\n",
        "    self.cor = cor\n",
        "    self.ano = ano\n",
        "    self.modelo = modelo\n",
        "    self.tipo_combustivel = tipo_combustivel\n",
        "  \n",
        "  def ligar(self):\n",
        "    print(\"ligando carro\")\n",
        "\n",
        "  def desligar(self):\n",
        "    print(\"desligando carro\")\n",
        "  \n",
        "  # método estático\n",
        "  @staticmethod # decorator para criar métodos estáticos\n",
        "  def acelerar():\n",
        "    print(\"acelerando\")\n",
        "\n",
        "# instanciar\n",
        "meu_carro = Carro(\"branco\", 2016, \"hb20\", \"flex\")\n",
        "meu_carro.acelerar()"
      ],
      "execution_count": 9,
      "outputs": [
        {
          "output_type": "stream",
          "text": [
            "acelerando\n"
          ],
          "name": "stdout"
        }
      ]
    },
    {
      "cell_type": "code",
      "metadata": {
        "id": "vDd4sUUfdnQE"
      },
      "source": [
        "# Crie uma classe Veículo e faça Carro herdar de Veículo.\n",
        "# Agora as variáveis do construtor de Veículo será cor , ano , modelo e a classe\n",
        "#  carro deverá reutilizar estas variáveis com a possibilidade de modificá las e também deverá ter mais uma variável : tipo_combustível\n",
        "\n",
        "class Veiculo:\n",
        "  def __init__(self, cor, ano, modelo):\n",
        "    self.cor = cor\n",
        "    self.ano = ano\n",
        "    self.modelo = modelo\n",
        "\n",
        "class Carro(Veiculo):\n",
        "  def __init__(self, cor, ano, modelo, tipo_combustivel):\n",
        "    super().__init__(cor, ano, modelo)\n",
        "    self.tipo_combustivel = tipo_combustivel\n",
        "  \n",
        "  def ligar(self):\n",
        "    print(\"ligando carro\")\n",
        "\n",
        "  def desligar(self):\n",
        "    print(\"desligando carro\")\n",
        "  \n",
        "  # método estático\n",
        "  @staticmethod # decorator para criar métodos estáticos\n",
        "  def acelerar():\n",
        "    print(\"acelerando\")"
      ],
      "execution_count": 11,
      "outputs": []
    },
    {
      "cell_type": "code",
      "metadata": {
        "id": "VC-INuBnfMr-"
      },
      "source": [
        "# instanciar\n",
        "veiculo1 = Veiculo(\"branco\", 2020, \"a4\")"
      ],
      "execution_count": 12,
      "outputs": []
    },
    {
      "cell_type": "code",
      "metadata": {
        "colab": {
          "base_uri": "https://localhost:8080/"
        },
        "id": "OQEU0IEofTLD",
        "outputId": "0b75bd24-5f5c-48b9-e77e-d6d01bb7763e"
      },
      "source": [
        "veiculo1.ano"
      ],
      "execution_count": 13,
      "outputs": [
        {
          "output_type": "execute_result",
          "data": {
            "text/plain": [
              "2020"
            ]
          },
          "metadata": {
            "tags": []
          },
          "execution_count": 13
        }
      ]
    },
    {
      "cell_type": "code",
      "metadata": {
        "id": "D-KMw6HNfUl_"
      },
      "source": [
        "# instanciar carro\n",
        "meu_carro_novo = Carro(\"preto\", 2020, \"corola\", \"flex\")"
      ],
      "execution_count": 14,
      "outputs": []
    },
    {
      "cell_type": "code",
      "metadata": {
        "colab": {
          "base_uri": "https://localhost:8080/"
        },
        "id": "2GQO8F5Ifdnl",
        "outputId": "f1e5df8f-8fef-40dd-938e-1c8da87f2931"
      },
      "source": [
        "meu_carro_novo.acelerar()"
      ],
      "execution_count": 15,
      "outputs": [
        {
          "output_type": "stream",
          "text": [
            "acelerando\n"
          ],
          "name": "stdout"
        }
      ]
    },
    {
      "cell_type": "code",
      "metadata": {
        "colab": {
          "base_uri": "https://localhost:8080/",
          "height": 35
        },
        "id": "_81JKdsOffhE",
        "outputId": "79b22dbb-d0b5-44d0-ea6f-13e9ce721a5d"
      },
      "source": [
        "meu_carro_novo.cor"
      ],
      "execution_count": 17,
      "outputs": [
        {
          "output_type": "execute_result",
          "data": {
            "application/vnd.google.colaboratory.intrinsic+json": {
              "type": "string"
            },
            "text/plain": [
              "'preto'"
            ]
          },
          "metadata": {
            "tags": []
          },
          "execution_count": 17
        }
      ]
    },
    {
      "cell_type": "code",
      "metadata": {
        "id": "nh9zLKTzfiA4"
      },
      "source": [
        ""
      ],
      "execution_count": null,
      "outputs": []
    }
  ]
}
