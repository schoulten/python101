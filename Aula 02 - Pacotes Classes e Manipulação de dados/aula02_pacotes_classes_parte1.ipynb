{
  "nbformat": 4,
  "nbformat_minor": 0,
  "metadata": {
    "colab": {
      "name": "aula02_pacotes_classes_parte1.ipynb",
      "provenance": [],
      "collapsed_sections": []
    },
    "kernelspec": {
      "name": "python3",
      "display_name": "Python 3"
    },
    "language_info": {
      "name": "python"
    }
  },
  "cells": [
    {
      "cell_type": "markdown",
      "metadata": {
        "id": "JPrfW64vnYqB"
      },
      "source": [
        "# Pacotes"
      ]
    },
    {
      "cell_type": "code",
      "metadata": {
        "colab": {
          "base_uri": "https://localhost:8080/"
        },
        "id": "86IDbZR6nWbt",
        "outputId": "8ea92fcd-e88e-4282-d41a-299ded367540"
      },
      "source": [
        "# Formas de carregar bibliotecas\n",
        "\n",
        "# Importa todos os módulos dentro do pacote\n",
        "import numpy\n",
        "\n",
        "# Uso\n",
        "numpy.abs(-1)"
      ],
      "execution_count": 6,
      "outputs": [
        {
          "output_type": "execute_result",
          "data": {
            "text/plain": [
              "1"
            ]
          },
          "metadata": {
            "tags": []
          },
          "execution_count": 6
        }
      ]
    },
    {
      "cell_type": "code",
      "metadata": {
        "colab": {
          "base_uri": "https://localhost:8080/"
        },
        "id": "Rb8TPu38nnl4",
        "outputId": "4213652c-6fd2-462c-e636-e7f574529295"
      },
      "source": [
        "# Importa um módulo ou função\n",
        "from numpy import abs\n",
        "from matplotlib.pyplot import hist # importar módulo e uma única função do mesmo\n",
        "from matplotlib import pyplot as plt # convenção\n",
        "\n",
        "# Uso: não precisa declarar nome do pacote\n",
        "abs(-1)"
      ],
      "execution_count": 7,
      "outputs": [
        {
          "output_type": "execute_result",
          "data": {
            "text/plain": [
              "1"
            ]
          },
          "metadata": {
            "tags": []
          },
          "execution_count": 7
        }
      ]
    },
    {
      "cell_type": "code",
      "metadata": {
        "colab": {
          "base_uri": "https://localhost:8080/"
        },
        "id": "nduFXSr6n2RG",
        "outputId": "ee42f672-995d-4c4c-da5f-3da0aa609052"
      },
      "source": [
        "# Importar todas as funções e módulos dentro do pacote\n",
        "from numpy import *\n",
        "\n",
        "abs(-1)\n",
        "absolute(-1)"
      ],
      "execution_count": 8,
      "outputs": [
        {
          "output_type": "execute_result",
          "data": {
            "text/plain": [
              "1"
            ]
          },
          "metadata": {
            "tags": []
          },
          "execution_count": 8
        }
      ]
    },
    {
      "cell_type": "code",
      "metadata": {
        "colab": {
          "base_uri": "https://localhost:8080/"
        },
        "id": "lUZxThFZobLu",
        "outputId": "924e6ec6-d079-4181-f61d-f483f6a5cf4c"
      },
      "source": [
        "# Importa uma função renomeando seu \"nickname\"\n",
        "from numpy import abs as num_abs\n",
        "\n",
        "num_abs(-1)"
      ],
      "execution_count": 10,
      "outputs": [
        {
          "output_type": "execute_result",
          "data": {
            "text/plain": [
              "1"
            ]
          },
          "metadata": {
            "tags": []
          },
          "execution_count": 10
        }
      ]
    },
    {
      "cell_type": "markdown",
      "metadata": {
        "id": "Lzn7fBTdqAz8"
      },
      "source": [
        "## Exercícios"
      ]
    },
    {
      "cell_type": "code",
      "metadata": {
        "colab": {
          "base_uri": "https://localhost:8080/",
          "height": 458
        },
        "id": "N7LCSYt-onjW",
        "outputId": "bb29a553-1096-479b-a835-122303fcd8b5"
      },
      "source": [
        "# Exercício 1\n",
        "from matplotlib import pyplot as plt\n",
        "import numpy as np\n",
        "\n",
        "# Amostra com distribuição normal\n",
        "num = np.random.normal(size = 1000)\n",
        "\n",
        "# Gerar histograma com a amostra\n",
        "plt.hist(num, bins = 30)"
      ],
      "execution_count": 17,
      "outputs": [
        {
          "output_type": "execute_result",
          "data": {
            "text/plain": [
              "(array([ 1.,  1.,  5.,  6., 13., 19., 20., 43., 44., 62., 93., 76., 95.,\n",
              "        94., 79., 86., 61., 69., 40., 34., 23., 14.,  6.,  8.,  4.,  3.,\n",
              "         0.,  0.,  0.,  1.]),\n",
              " array([-3.09027948, -2.8513386 , -2.61239772, -2.37345684, -2.13451596,\n",
              "        -1.89557508, -1.6566342 , -1.41769332, -1.17875244, -0.93981157,\n",
              "        -0.70087069, -0.46192981, -0.22298893,  0.01595195,  0.25489283,\n",
              "         0.49383371,  0.73277459,  0.97171547,  1.21065635,  1.44959723,\n",
              "         1.68853811,  1.92747898,  2.16641986,  2.40536074,  2.64430162,\n",
              "         2.8832425 ,  3.12218338,  3.36112426,  3.60006514,  3.83900602,\n",
              "         4.0779469 ]),\n",
              " <a list of 30 Patch objects>)"
            ]
          },
          "metadata": {
            "tags": []
          },
          "execution_count": 17
        },
        {
          "output_type": "display_data",
          "data": {
            "image/png": "[encoded data removed]",
            "text/plain": [
              "<Figure size 432x288 with 1 Axes>"
            ]
          },
          "metadata": {
            "tags": [],
            "needs_background": "light"
          }
        }
      ]
    },
    {
      "cell_type": "code",
      "metadata": {
        "colab": {
          "base_uri": "https://localhost:8080/",
          "height": 265
        },
        "id": "raO3oO9VqSFQ",
        "outputId": "933accd0-dfef-4f7d-abda-38c204f466bc"
      },
      "source": [
        "plt.hist(num, bins = 30); # omitir o array"
      ],
      "execution_count": 18,
      "outputs": [
        {
          "output_type": "display_data",
          "data": {
            "image/png": "[encoded data removed]",
            "text/plain": [
              "<Figure size 432x288 with 1 Axes>"
            ]
          },
          "metadata": {
            "tags": [],
            "needs_background": "light"
          }
        }
      ]
    },
    {
      "cell_type": "code",
      "metadata": {
        "colab": {
          "base_uri": "https://localhost:8080/",
          "height": 265
        },
        "id": "A1UyjeGHqSqt",
        "outputId": "1f3ff32c-3957-4b8b-adfd-3f119277b943"
      },
      "source": [
        "# Distribuição uniforme\n",
        "amostra2 = np.random.uniform(size = 1000)\n",
        "plt.hist(amostra2, color = \"orange\");"
      ],
      "execution_count": 21,
      "outputs": [
        {
          "output_type": "display_data",
          "data": {
            "image/png": "[encoded data removed]",
            "text/plain": [
              "<Figure size 432x288 with 1 Axes>"
            ]
          },
          "metadata": {
            "tags": [],
            "needs_background": "light"
          }
        }
      ]
    },
    {
      "cell_type": "markdown",
      "metadata": {
        "id": "pbxaGdXNr1CM"
      },
      "source": [
        "# Instalar pacotes"
      ]
    },
    {
      "cell_type": "code",
      "metadata": {
        "colab": {
          "base_uri": "https://localhost:8080/"
        },
        "id": "btJPzlvMsJPN",
        "outputId": "353881e8-82e0-482e-8f96-b48ac10e569c"
      },
      "source": [
        "# Comando pip\n",
        "!pip install deap"
      ],
      "execution_count": 25,
      "outputs": [
        {
          "output_type": "stream",
          "text": [
            "Collecting deap\n",
            "  Downloading deap-1.3.1-cp37-cp37m-manylinux_2_5_x86_64.manylinux1_x86_64.manylinux_2_12_x86_64.manylinux2010_x86_64.whl (160 kB)\n",
            "\u001b[?25l\r\u001b[K     |██                              | 10 kB 25.4 MB/s eta 0:00:01\r\u001b[K     |████                            | 20 kB 27.2 MB/s eta 0:00:01\r\u001b[K     |██████                          | 30 kB 11.9 MB/s eta 0:00:01\r\u001b[K     |████████▏                       | 40 kB 9.3 MB/s eta 0:00:01\r\u001b[K     |██████████▏                     | 51 kB 5.2 MB/s eta 0:00:01\r\u001b[K     |████████████▏                   | 61 kB 5.6 MB/s eta 0:00:01\r\u001b[K     |██████████████▎                 | 71 kB 5.3 MB/s eta 0:00:01\r\u001b[K     |████████████████▎               | 81 kB 6.0 MB/s eta 0:00:01\r\u001b[K     |██████████████████▎             | 92 kB 6.2 MB/s eta 0:00:01\r\u001b[K     |████████████████████▍           | 102 kB 5.0 MB/s eta 0:00:01\r\u001b[K     |██████████████████████▍         | 112 kB 5.0 MB/s eta 0:00:01\r\u001b[K     |████████████████████████▍       | 122 kB 5.0 MB/s eta 0:00:01\r\u001b[K     |██████████████████████████▌     | 133 kB 5.0 MB/s eta 0:00:01\r\u001b[K     |████████████████████████████▌   | 143 kB 5.0 MB/s eta 0:00:01\r\u001b[K     |██████████████████████████████▌ | 153 kB 5.0 MB/s eta 0:00:01\r\u001b[K     |████████████████████████████████| 160 kB 5.0 MB/s \n",
            "\u001b[?25hRequirement already satisfied: numpy in /usr/local/lib/python3.7/dist-packages (from deap) (1.19.5)\n",
            "Installing collected packages: deap\n",
            "Successfully installed deap-1.3.1\n"
          ],
          "name": "stdout"
        }
      ]
    },
    {
      "cell_type": "code",
      "metadata": {
        "id": "_jA1BHeQr2-R"
      },
      "source": [
        "import deap"
      ],
      "execution_count": 26,
      "outputs": []
    }
  ]
}