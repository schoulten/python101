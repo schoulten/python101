{
  "nbformat": 4,
  "nbformat_minor": 0,
  "metadata": {
    "colab": {
      "name": "aula02_parte3_manipulacao_dados.ipynb",
      "provenance": [],
      "collapsed_sections": []
    },
    "kernelspec": {
      "name": "python3",
      "display_name": "Python 3"
    },
    "language_info": {
      "name": "python"
    }
  },
  "cells": [
    {
      "cell_type": "markdown",
      "metadata": {
        "id": "XY2prwPghsh_"
      },
      "source": [
        "# Numpy - Manipulação de dados"
      ]
    },
    {
      "cell_type": "code",
      "metadata": {
        "id": "6n0RHdORhxcC"
      },
      "source": [
        "import numpy as np"
      ],
      "execution_count": 1,
      "outputs": []
    },
    {
      "cell_type": "code",
      "metadata": {
        "colab": {
          "base_uri": "https://localhost:8080/"
        },
        "id": "JxWd-eKchzpo",
        "outputId": "ef1cc9ac-6460-45c4-d386-646011575bae"
      },
      "source": [
        "# Vetor de 1 dimensão\n",
        "t1 = np.ones(4) # vetor com 4 elementos \"1\"\n",
        "t1"
      ],
      "execution_count": 2,
      "outputs": [
        {
          "output_type": "execute_result",
          "data": {
            "text/plain": [
              "array([1., 1., 1., 1.])"
            ]
          },
          "metadata": {
            "tags": []
          },
          "execution_count": 2
        }
      ]
    },
    {
      "cell_type": "code",
      "metadata": {
        "colab": {
          "base_uri": "https://localhost:8080/"
        },
        "id": "7p5cjIGQh8eF",
        "outputId": "ee52c724-9905-4d41-91ad-d0b6f25d8c00"
      },
      "source": [
        "# Dimensões\n",
        "t1.shape"
      ],
      "execution_count": 3,
      "outputs": [
        {
          "output_type": "execute_result",
          "data": {
            "text/plain": [
              "(4,)"
            ]
          },
          "metadata": {
            "tags": []
          },
          "execution_count": 3
        }
      ]
    },
    {
      "cell_type": "code",
      "metadata": {
        "id": "i7BzySaziFig"
      },
      "source": [
        "# Matriz 3D\n",
        "t2 = np.ones((4, 3, 2)) # 4 matriz de 3 linhas 2 duas colunas cada"
      ],
      "execution_count": 4,
      "outputs": []
    },
    {
      "cell_type": "code",
      "metadata": {
        "colab": {
          "base_uri": "https://localhost:8080/"
        },
        "id": "wJxituBliOA7",
        "outputId": "7f109cdb-f5a6-4bdd-b4ad-c56ec9b12e46"
      },
      "source": [
        "t2"
      ],
      "execution_count": 6,
      "outputs": [
        {
          "output_type": "execute_result",
          "data": {
            "text/plain": [
              "array([[[1., 1.],\n",
              "        [1., 1.],\n",
              "        [1., 1.]],\n",
              "\n",
              "       [[1., 1.],\n",
              "        [1., 1.],\n",
              "        [1., 1.]],\n",
              "\n",
              "       [[1., 1.],\n",
              "        [1., 1.],\n",
              "        [1., 1.]],\n",
              "\n",
              "       [[1., 1.],\n",
              "        [1., 1.],\n",
              "        [1., 1.]]])"
            ]
          },
          "metadata": {
            "tags": []
          },
          "execution_count": 6
        }
      ]
    },
    {
      "cell_type": "code",
      "metadata": {
        "colab": {
          "base_uri": "https://localhost:8080/"
        },
        "id": "rBsFunmeiOrr",
        "outputId": "0930f734-29e7-4d4f-ec50-d558409640d4"
      },
      "source": [
        "t2.shape"
      ],
      "execution_count": 7,
      "outputs": [
        {
          "output_type": "execute_result",
          "data": {
            "text/plain": [
              "(4, 3, 2)"
            ]
          },
          "metadata": {
            "tags": []
          },
          "execution_count": 7
        }
      ]
    },
    {
      "cell_type": "code",
      "metadata": {
        "colab": {
          "base_uri": "https://localhost:8080/"
        },
        "id": "64p2fx0fibGW",
        "outputId": "98599d1c-57d1-47b8-82db-b162dba656fd"
      },
      "source": [
        "# Matriz 3D com números aleatórios\n",
        "t3 = np.random.random((4, 3, 2))\n",
        "t3"
      ],
      "execution_count": 8,
      "outputs": [
        {
          "output_type": "execute_result",
          "data": {
            "text/plain": [
              "array([[[0.71324171, 0.462591  ],\n",
              "        [0.76476755, 0.28196772],\n",
              "        [0.41201416, 0.78972063]],\n",
              "\n",
              "       [[0.13067509, 0.3861955 ],\n",
              "        [0.4827478 , 0.42879993],\n",
              "        [0.64504674, 0.32353447]],\n",
              "\n",
              "       [[0.65088785, 0.90445167],\n",
              "        [0.554362  , 0.45875162],\n",
              "        [0.63280461, 0.7198714 ]],\n",
              "\n",
              "       [[0.34545349, 0.38248578],\n",
              "        [0.45648471, 0.35835788],\n",
              "        [0.7619696 , 0.09748253]]])"
            ]
          },
          "metadata": {
            "tags": []
          },
          "execution_count": 8
        }
      ]
    },
    {
      "cell_type": "code",
      "metadata": {
        "colab": {
          "base_uri": "https://localhost:8080/"
        },
        "id": "m_v6nuF7ippw",
        "outputId": "522be70a-6b3e-4f8f-f5ff-5a32110f0c61"
      },
      "source": [
        "# Vetor com valores pré definidos\n",
        "v1 = np.array([1,2,3,4])\n",
        "v1"
      ],
      "execution_count": 9,
      "outputs": [
        {
          "output_type": "execute_result",
          "data": {
            "text/plain": [
              "array([1, 2, 3, 4])"
            ]
          },
          "metadata": {
            "tags": []
          },
          "execution_count": 9
        }
      ]
    },
    {
      "cell_type": "code",
      "metadata": {
        "colab": {
          "base_uri": "https://localhost:8080/"
        },
        "id": "U2miPoJFi3ZI",
        "outputId": "ed9c9ac8-0a31-4d54-a09b-0ad5b513a3ce"
      },
      "source": [
        "v2 = np.array([[1,2,3,4], [6,7,8,9]])\n",
        "v2"
      ],
      "execution_count": 11,
      "outputs": [
        {
          "output_type": "execute_result",
          "data": {
            "text/plain": [
              "array([[1, 2, 3, 4],\n",
              "       [6, 7, 8, 9]])"
            ]
          },
          "metadata": {
            "tags": []
          },
          "execution_count": 11
        }
      ]
    },
    {
      "cell_type": "code",
      "metadata": {
        "colab": {
          "base_uri": "https://localhost:8080/"
        },
        "id": "c51Qf0SkjACF",
        "outputId": "386a08a6-f669-4dd0-a173-08ca82ea01e9"
      },
      "source": [
        "v2.shape"
      ],
      "execution_count": 12,
      "outputs": [
        {
          "output_type": "execute_result",
          "data": {
            "text/plain": [
              "(2, 4)"
            ]
          },
          "metadata": {
            "tags": []
          },
          "execution_count": 12
        }
      ]
    },
    {
      "cell_type": "code",
      "metadata": {
        "colab": {
          "base_uri": "https://localhost:8080/"
        },
        "id": "QDmF71bWjFuG",
        "outputId": "52d6e9a7-f58c-4d7a-86fc-8b2c240b41a9"
      },
      "source": [
        "# Tamanho da estrutura de dados (número de elementos)\n",
        "v2.size"
      ],
      "execution_count": 13,
      "outputs": [
        {
          "output_type": "execute_result",
          "data": {
            "text/plain": [
              "8"
            ]
          },
          "metadata": {
            "tags": []
          },
          "execution_count": 13
        }
      ]
    },
    {
      "cell_type": "code",
      "metadata": {
        "colab": {
          "base_uri": "https://localhost:8080/"
        },
        "id": "MzhEBEsejTM4",
        "outputId": "37b1c97a-ca75-4fc6-e171-82aab0e2410a"
      },
      "source": [
        "# Número de dimensões\n",
        "v2.ndim"
      ],
      "execution_count": 14,
      "outputs": [
        {
          "output_type": "execute_result",
          "data": {
            "text/plain": [
              "2"
            ]
          },
          "metadata": {
            "tags": []
          },
          "execution_count": 14
        }
      ]
    },
    {
      "cell_type": "code",
      "metadata": {
        "colab": {
          "base_uri": "https://localhost:8080/"
        },
        "id": "zbZQjkE9jV8A",
        "outputId": "8a57a36e-3ee8-46fb-dcb9-13754db47a3f"
      },
      "source": [
        "# Tipo dos dados\n",
        "v2.dtype"
      ],
      "execution_count": 16,
      "outputs": [
        {
          "output_type": "execute_result",
          "data": {
            "text/plain": [
              "dtype('int64')"
            ]
          },
          "metadata": {
            "tags": []
          },
          "execution_count": 16
        }
      ]
    },
    {
      "cell_type": "code",
      "metadata": {
        "colab": {
          "base_uri": "https://localhost:8080/"
        },
        "id": "xMc-rrEQjZI7",
        "outputId": "4240ee48-580e-4b43-8f99-2f55de20d7ec"
      },
      "source": [
        "# Somar todos os valores\n",
        "v2.sum()"
      ],
      "execution_count": 18,
      "outputs": [
        {
          "output_type": "execute_result",
          "data": {
            "text/plain": [
              "40"
            ]
          },
          "metadata": {
            "tags": []
          },
          "execution_count": 18
        }
      ]
    },
    {
      "cell_type": "code",
      "metadata": {
        "colab": {
          "base_uri": "https://localhost:8080/"
        },
        "id": "QTGLPFdejex-",
        "outputId": "52854938-1fc2-43b1-dbb1-237e4cb8fb70"
      },
      "source": [
        "# Valor máximo\n",
        "v2.max()"
      ],
      "execution_count": 20,
      "outputs": [
        {
          "output_type": "execute_result",
          "data": {
            "text/plain": [
              "9"
            ]
          },
          "metadata": {
            "tags": []
          },
          "execution_count": 20
        }
      ]
    },
    {
      "cell_type": "code",
      "metadata": {
        "colab": {
          "base_uri": "https://localhost:8080/"
        },
        "id": "D8l8ClNvjq-9",
        "outputId": "3344baae-2810-41c9-d655-da85fdd1199f"
      },
      "source": [
        "# Valor mínimo\n",
        "v2.min()"
      ],
      "execution_count": 21,
      "outputs": [
        {
          "output_type": "execute_result",
          "data": {
            "text/plain": [
              "1"
            ]
          },
          "metadata": {
            "tags": []
          },
          "execution_count": 21
        }
      ]
    },
    {
      "cell_type": "markdown",
      "metadata": {
        "id": "rSPikwNRlNDY"
      },
      "source": [
        " Como acessar elementos dentro de array"
      ]
    },
    {
      "cell_type": "code",
      "metadata": {
        "colab": {
          "base_uri": "https://localhost:8080/"
        },
        "id": "Da7Xil1xjt4r",
        "outputId": "0648668e-e75c-4749-832d-945b9ecf1b80"
      },
      "source": [
        "v2"
      ],
      "execution_count": 25,
      "outputs": [
        {
          "output_type": "execute_result",
          "data": {
            "text/plain": [
              "array([[1, 2, 3, 4],\n",
              "       [6, 7, 8, 9]])"
            ]
          },
          "metadata": {
            "tags": []
          },
          "execution_count": 25
        }
      ]
    },
    {
      "cell_type": "code",
      "metadata": {
        "colab": {
          "base_uri": "https://localhost:8080/"
        },
        "id": "CQ-TmUe9kFvK",
        "outputId": "dd8b915d-671a-4f86-8afb-bb5cdfc0b7ce"
      },
      "source": [
        "# Acessar primeiro elemento\n",
        "v2[0,0] # linha 0, elemento 0"
      ],
      "execution_count": 26,
      "outputs": [
        {
          "output_type": "execute_result",
          "data": {
            "text/plain": [
              "1"
            ]
          },
          "metadata": {
            "tags": []
          },
          "execution_count": 26
        }
      ]
    },
    {
      "cell_type": "code",
      "metadata": {
        "colab": {
          "base_uri": "https://localhost:8080/"
        },
        "id": "aezAteVwkNNn",
        "outputId": "0bfb6640-cd9c-4176-ff22-704c8cfa5aba"
      },
      "source": [
        "# Acessar segunda linha e terceiro elemento\n",
        "v2[1,2]"
      ],
      "execution_count": 27,
      "outputs": [
        {
          "output_type": "execute_result",
          "data": {
            "text/plain": [
              "8"
            ]
          },
          "metadata": {
            "tags": []
          },
          "execution_count": 27
        }
      ]
    },
    {
      "cell_type": "code",
      "metadata": {
        "colab": {
          "base_uri": "https://localhost:8080/"
        },
        "id": "P0C4RAaYknKO",
        "outputId": "52c88dd0-a7f6-459d-a647-214d663e29ae"
      },
      "source": [
        "# Acessar múltiplos elementos (primeira linha e segundo e terceiro elemento)\n",
        "v2[0, 1:3] # 3 é exclusive (inclusive:exclusive)"
      ],
      "execution_count": 28,
      "outputs": [
        {
          "output_type": "execute_result",
          "data": {
            "text/plain": [
              "array([2, 3])"
            ]
          },
          "metadata": {
            "tags": []
          },
          "execution_count": 28
        }
      ]
    },
    {
      "cell_type": "markdown",
      "metadata": {
        "id": "tdGzzQZelIQk"
      },
      "source": [
        "Operações aritméticas"
      ]
    },
    {
      "cell_type": "code",
      "metadata": {
        "colab": {
          "base_uri": "https://localhost:8080/"
        },
        "id": "aXRxZ583k4U8",
        "outputId": "66169057-1a0c-44a6-c67a-36e358a9a727"
      },
      "source": [
        "a = np.array([[1,2], [4,5]])\n",
        "b = np.array([[10,20], [30,40]])\n",
        "\n",
        "print(a)\n",
        "print(b)"
      ],
      "execution_count": 31,
      "outputs": [
        {
          "output_type": "stream",
          "text": [
            "[[1 2]\n",
            " [4 5]]\n",
            "[[10 20]\n",
            " [30 40]]\n"
          ],
          "name": "stdout"
        }
      ]
    },
    {
      "cell_type": "code",
      "metadata": {
        "colab": {
          "base_uri": "https://localhost:8080/"
        },
        "id": "mNR53Ws-ljUA",
        "outputId": "0ed82556-a518-43cd-b0c7-6e0a844f7258"
      },
      "source": [
        "# Multiplicação (element-wise)\n",
        "2 * a"
      ],
      "execution_count": 32,
      "outputs": [
        {
          "output_type": "execute_result",
          "data": {
            "text/plain": [
              "array([[ 2,  4],\n",
              "       [ 8, 10]])"
            ]
          },
          "metadata": {
            "tags": []
          },
          "execution_count": 32
        }
      ]
    },
    {
      "cell_type": "code",
      "metadata": {
        "colab": {
          "base_uri": "https://localhost:8080/"
        },
        "id": "TKsASywulweq",
        "outputId": "455d76c8-43ee-44c0-930f-540b0475da15"
      },
      "source": [
        "# Soma\n",
        "2 + a"
      ],
      "execution_count": 33,
      "outputs": [
        {
          "output_type": "execute_result",
          "data": {
            "text/plain": [
              "array([[3, 4],\n",
              "       [6, 7]])"
            ]
          },
          "metadata": {
            "tags": []
          },
          "execution_count": 33
        }
      ]
    },
    {
      "cell_type": "code",
      "metadata": {
        "colab": {
          "base_uri": "https://localhost:8080/"
        },
        "id": "4-bRFT-ol36F",
        "outputId": "92be55fc-43fa-4d2e-8f9e-426755f7188a"
      },
      "source": [
        "# Multiplicação matricial\n",
        "a.dot(b)"
      ],
      "execution_count": 34,
      "outputs": [
        {
          "output_type": "execute_result",
          "data": {
            "text/plain": [
              "array([[ 70, 100],\n",
              "       [190, 280]])"
            ]
          },
          "metadata": {
            "tags": []
          },
          "execution_count": 34
        }
      ]
    },
    {
      "cell_type": "markdown",
      "metadata": {
        "id": "JNc7GuWbmhCC"
      },
      "source": [
        "Exercício"
      ]
    },
    {
      "cell_type": "code",
      "metadata": {
        "id": "ZRVTKCkDmG2U"
      },
      "source": [
        "# 1 Operações vetorizadas são extremamente mais eficientes do que a utilização de\n",
        "# loops para realização de tais operações Faça um teste para provar a eficiência da\n",
        "# biblioteca em relação ao uso de listas nativas do Python Crie dois vetores com\n",
        "# 100000 elementos e faça um dot product Dica use a função time process_time do\n",
        "# pacote ‘ para salvar o tempo antes e depois da operação O tempo decorrido\n",
        "# em segundos pode ser calculado com a diferença entre estes valores\n",
        "\n",
        "from time import process_time"
      ],
      "execution_count": 36,
      "outputs": []
    },
    {
      "cell_type": "code",
      "metadata": {
        "id": "P7IFH36LsMgQ"
      },
      "source": [
        "# Criar lista\n",
        "lista = [1] * 100000"
      ],
      "execution_count": 37,
      "outputs": []
    },
    {
      "cell_type": "code",
      "metadata": {
        "colab": {
          "base_uri": "https://localhost:8080/"
        },
        "id": "rHkYwEbqscoE",
        "outputId": "56219dbc-19e3-484f-edd3-cb8c811d9068"
      },
      "source": [
        "len(lista)"
      ],
      "execution_count": 39,
      "outputs": [
        {
          "output_type": "execute_result",
          "data": {
            "text/plain": [
              "100000"
            ]
          },
          "metadata": {
            "tags": []
          },
          "execution_count": 39
        }
      ]
    },
    {
      "cell_type": "code",
      "metadata": {
        "colab": {
          "base_uri": "https://localhost:8080/"
        },
        "id": "ihbKufAAsdML",
        "outputId": "dd3340c1-8bcc-4419-a445-53e0f9e6cb41"
      },
      "source": [
        "# Operação não vetorizada\n",
        "tic = process_time()\n",
        "\n",
        "# Inicializar variável que vai armazenar o resultado da multiplicação\n",
        "dot = 0\n",
        "\n",
        "for i in range(len(lista)):\n",
        "  dot += lista[i] * lista[i]\n",
        "\n",
        "toc = process_time()\n",
        "\n",
        "toc - tic"
      ],
      "execution_count": 40,
      "outputs": [
        {
          "output_type": "execute_result",
          "data": {
            "text/plain": [
              "0.021917580000000214"
            ]
          },
          "metadata": {
            "tags": []
          },
          "execution_count": 40
        }
      ]
    },
    {
      "cell_type": "code",
      "metadata": {
        "colab": {
          "base_uri": "https://localhost:8080/"
        },
        "id": "blyl0b10thpN",
        "outputId": "80f52f85-b28d-4d8a-ecb2-b098c3dd4266"
      },
      "source": [
        "dot"
      ],
      "execution_count": 41,
      "outputs": [
        {
          "output_type": "execute_result",
          "data": {
            "text/plain": [
              "100000"
            ]
          },
          "metadata": {
            "tags": []
          },
          "execution_count": 41
        }
      ]
    },
    {
      "cell_type": "code",
      "metadata": {
        "colab": {
          "base_uri": "https://localhost:8080/"
        },
        "id": "E5bhpktltnaA",
        "outputId": "e33f86f3-5dd6-4c09-d749-ade31b90d9d7"
      },
      "source": [
        "# Fazer operação vetorizada\n",
        "a = np.asarray(lista)\n",
        "\n",
        "tic = process_time()\n",
        "dot = a.dot(a)\n",
        "toc = process_time()\n",
        "\n",
        "toc - tic"
      ],
      "execution_count": 42,
      "outputs": [
        {
          "output_type": "execute_result",
          "data": {
            "text/plain": [
              "0.0007820300000016545"
            ]
          },
          "metadata": {
            "tags": []
          },
          "execution_count": 42
        }
      ]
    },
    {
      "cell_type": "code",
      "metadata": {
        "colab": {
          "base_uri": "https://localhost:8080/"
        },
        "id": "0IY6tZqCuZM_",
        "outputId": "ce24f5c6-d3a1-4996-8c4c-d96a26bee5be"
      },
      "source": [
        "dot"
      ],
      "execution_count": 43,
      "outputs": [
        {
          "output_type": "execute_result",
          "data": {
            "text/plain": [
              "100000"
            ]
          },
          "metadata": {
            "tags": []
          },
          "execution_count": 43
        }
      ]
    },
    {
      "cell_type": "code",
      "metadata": {
        "id": "8GmyKWhEuZi6"
      },
      "source": [
        "# Exercício 2: Demonstrativo financeiro de empresa\n",
        "\n",
        "receitas = np.array([ 7606.46, 18611.41, 19175.41, 8758.65, 8105.44, 11496.28, 9766.09, 10305.32, 18379.96, 10713.97, 15433.50])\n",
        "custos = np.array([ 5695.07, 12319.20, 12089.72, 8658.57, 840.20, 3285.73, 5821.12, 6976.93, 16618.61, 10054.37, 3803.96])"
      ],
      "execution_count": 44,
      "outputs": []
    },
    {
      "cell_type": "code",
      "metadata": {
        "colab": {
          "base_uri": "https://localhost:8080/"
        },
        "id": "nCdOEDY3vWC3",
        "outputId": "1500e9cd-17ce-44ea-86d1-cdf95383c76b"
      },
      "source": [
        "# Calcular o lucro mensal\n",
        "lucro = receitas - custos\n",
        "lucro"
      ],
      "execution_count": 47,
      "outputs": [
        {
          "output_type": "execute_result",
          "data": {
            "text/plain": [
              "array([ 1911.39,  6292.21,  7085.69,   100.08,  7265.24,  8210.55,\n",
              "        3944.97,  3328.39,  1761.35,   659.6 , 11629.54])"
            ]
          },
          "metadata": {
            "tags": []
          },
          "execution_count": 47
        }
      ]
    },
    {
      "cell_type": "code",
      "metadata": {
        "colab": {
          "base_uri": "https://localhost:8080/"
        },
        "id": "0gea506swcsy",
        "outputId": "86425121-1bea-4a8a-a49e-a34149fb02dc"
      },
      "source": [
        "# Lucro sem imposto de 30% (líquido)\n",
        "lucro_liquido = lucro * 0.7\n",
        "lucro_liquido"
      ],
      "execution_count": 48,
      "outputs": [
        {
          "output_type": "execute_result",
          "data": {
            "text/plain": [
              "array([1337.973, 4404.547, 4959.983,   70.056, 5085.668, 5747.385,\n",
              "       2761.479, 2329.873, 1232.945,  461.72 , 8140.678])"
            ]
          },
          "metadata": {
            "tags": []
          },
          "execution_count": 48
        }
      ]
    },
    {
      "cell_type": "code",
      "metadata": {
        "colab": {
          "base_uri": "https://localhost:8080/"
        },
        "id": "D9nmxm8nw8vQ",
        "outputId": "e657c025-1134-4b10-da16-f51f99583f5f"
      },
      "source": [
        "# Margem de lucro\n",
        "margem = lucro_liquido / receitas\n",
        "margem"
      ],
      "execution_count": 50,
      "outputs": [
        {
          "output_type": "execute_result",
          "data": {
            "text/plain": [
              "array([0.17589956, 0.23665843, 0.25866373, 0.00799849, 0.62743886,\n",
              "       0.49993433, 0.28276199, 0.22608449, 0.06708094, 0.04309514,\n",
              "       0.52746804])"
            ]
          },
          "metadata": {
            "tags": []
          },
          "execution_count": 50
        }
      ]
    },
    {
      "cell_type": "code",
      "metadata": {
        "colab": {
          "base_uri": "https://localhost:8080/"
        },
        "id": "NbADKZiDxYb1",
        "outputId": "dd06a8d5-31ee-4f91-d624-6b7bd9fd5333"
      },
      "source": [
        "# Meses bons\n",
        "lucro_medio = lucro_liquido.mean()\n",
        "lucro_medio"
      ],
      "execution_count": 52,
      "outputs": [
        {
          "output_type": "execute_result",
          "data": {
            "text/plain": [
              "3321.1188181818175"
            ]
          },
          "metadata": {
            "tags": []
          },
          "execution_count": 52
        }
      ]
    },
    {
      "cell_type": "code",
      "metadata": {
        "colab": {
          "base_uri": "https://localhost:8080/"
        },
        "id": "PodZydigxuDN",
        "outputId": "cf5b6b37-5b7a-479f-d6b8-c7fb0b9a85dc"
      },
      "source": [
        "meses_bons = lucro_liquido > lucro_medio\n",
        "meses_bons"
      ],
      "execution_count": 54,
      "outputs": [
        {
          "output_type": "execute_result",
          "data": {
            "text/plain": [
              "array([False,  True,  True, False,  True,  True, False, False, False,\n",
              "       False,  True])"
            ]
          },
          "metadata": {
            "tags": []
          },
          "execution_count": 54
        }
      ]
    },
    {
      "cell_type": "code",
      "metadata": {
        "colab": {
          "base_uri": "https://localhost:8080/"
        },
        "id": "FPoNXo03x09n",
        "outputId": "41402c92-361d-49b8-f09d-8e263ea20962"
      },
      "source": [
        "# Retornar indices do vetor para meses bons\n",
        "np.where(meses_bons)"
      ],
      "execution_count": 55,
      "outputs": [
        {
          "output_type": "execute_result",
          "data": {
            "text/plain": [
              "(array([ 1,  2,  4,  5, 10]),)"
            ]
          },
          "metadata": {
            "tags": []
          },
          "execution_count": 55
        }
      ]
    },
    {
      "cell_type": "code",
      "metadata": {
        "colab": {
          "base_uri": "https://localhost:8080/"
        },
        "id": "27VZPGbyyGhA",
        "outputId": "96733ea3-2677-407a-f2d6-ed5797588259"
      },
      "source": [
        "# Retornar os valores de meses bons\n",
        "lucro_liquido[meses_bons]"
      ],
      "execution_count": 56,
      "outputs": [
        {
          "output_type": "execute_result",
          "data": {
            "text/plain": [
              "array([4404.547, 4959.983, 5085.668, 5747.385, 8140.678])"
            ]
          },
          "metadata": {
            "tags": []
          },
          "execution_count": 56
        }
      ]
    },
    {
      "cell_type": "code",
      "metadata": {
        "colab": {
          "base_uri": "https://localhost:8080/"
        },
        "id": "V7_2xbLlyW6F",
        "outputId": "59048715-d1f3-4332-9d34-8cb1e738105d"
      },
      "source": [
        "# Meses ruins\n",
        "meses_ruins = np.where(meses_bons == False) # retornar os índices\n",
        "meses_ruins"
      ],
      "execution_count": 58,
      "outputs": [
        {
          "output_type": "execute_result",
          "data": {
            "text/plain": [
              "(array([0, 3, 6, 7, 8, 9]),)"
            ]
          },
          "metadata": {
            "tags": []
          },
          "execution_count": 58
        }
      ]
    },
    {
      "cell_type": "code",
      "metadata": {
        "colab": {
          "base_uri": "https://localhost:8080/"
        },
        "id": "SC7Q8l11ylxx",
        "outputId": "36f3b420-7b21-4979-a9b4-1e8d2ba33d86"
      },
      "source": [
        "# Melhor mês\n",
        "lucro_liquido.max() # valor"
      ],
      "execution_count": 61,
      "outputs": [
        {
          "output_type": "execute_result",
          "data": {
            "text/plain": [
              "8140.678"
            ]
          },
          "metadata": {
            "tags": []
          },
          "execution_count": 61
        }
      ]
    },
    {
      "cell_type": "code",
      "metadata": {
        "colab": {
          "base_uri": "https://localhost:8080/"
        },
        "id": "YNBZNlnnzB7I",
        "outputId": "cd122b8f-552e-44db-87f1-36e47a0a6a10"
      },
      "source": [
        "# índice\n",
        "np.where(lucro_liquido == lucro_liquido.max())"
      ],
      "execution_count": 63,
      "outputs": [
        {
          "output_type": "execute_result",
          "data": {
            "text/plain": [
              "(array([10]),)"
            ]
          },
          "metadata": {
            "tags": []
          },
          "execution_count": 63
        }
      ]
    },
    {
      "cell_type": "code",
      "metadata": {
        "colab": {
          "base_uri": "https://localhost:8080/"
        },
        "id": "l3LnT83Sy5_X",
        "outputId": "554ed231-f2ca-4362-b4a5-79e93ee60059"
      },
      "source": [
        "# Pior mês\n",
        "lucro_liquido.min()"
      ],
      "execution_count": 64,
      "outputs": [
        {
          "output_type": "execute_result",
          "data": {
            "text/plain": [
              "70.05599999999994"
            ]
          },
          "metadata": {
            "tags": []
          },
          "execution_count": 64
        }
      ]
    },
    {
      "cell_type": "code",
      "metadata": {
        "id": "N4QLnu1Ny9sB"
      },
      "source": [
        ""
      ],
      "execution_count": null,
      "outputs": []
    }
  ]
}